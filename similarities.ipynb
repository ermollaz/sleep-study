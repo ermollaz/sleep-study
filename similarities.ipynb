{
 "cells": [
  {
   "cell_type": "markdown",
   "metadata": {},
   "source": [
    "# **Analyzing Task-Report Similarities Using Text Embeddings and Cosine Similarity**\n",
    "\n",
    "## **Description**\n",
    "This notebook processes task descriptions and experimental reports, extracts text embeddings, and computes cosine similarity scores between tasks and reports. The similarity scores are grouped by experimental conditions and visualized using Kernel Density Estimation (KDE) to explore patterns in textual similarity.\n",
    "\n",
    "## **Rationale**\n",
    "The goal of this analysis is to assess the relationship between task descriptions and reports generated during experiments. By embedding textual data and using cosine similarity, we can quantify how closely a report aligns with predefined tasks under different experimental conditions. This approach enables:\n",
    "- Automated comparison of structured and unstructured text data.\n",
    "- Identification of condition-dependent text similarities.\n",
    "- Visualization of similarity distributions for interpretability.\n",
    "\n",
    "The workflow follows a structured approach:\n",
    "1. **Data Loading**: Extracts task descriptions and experimental reports from `.docx` files.\n",
    "2. **Data Processing**: Cleans and organizes text, identifying experimental runs.\n",
    "3. **Embedding Generation**: Converts text into vector embeddings using openai `text-embedding-large` model\n",
    "4. **Similarity Computation**: Measures cosine similarity between task and report embeddings.\n",
    "5. **Analysis & Visualization**: Groups similarities by experimental condition and visualizes distributions.\n"
   ]
  },
  {
   "cell_type": "markdown",
   "metadata": {},
   "source": [
    "### **Imports and Data Models**\n",
    "This cell initializes the notebook by importing essential libraries, defining helper functions, and structuring data models.  \n",
    "- **Imports:** Includes standard libraries (`os`, `re`, `pickle`, `numpy`, `scipy.stats`, `pandas`) along with external dependencies (`pydantic`, `docx`, `plotly.graph_objects`, and a custom `utils` module).  \n",
    "- **Helper Function:** Implements `cosine_similarity()` to compute similarity between two vectors using the cosine similarity metric.  \n",
    "- **Data Models:**  \n",
    "  - `Run`: Represents an experimental run with a run number, report text, and optional embeddings.  \n",
    "  - `Report`: Defines a collection of runs associated with a specific report name and conditions.  \n",
    "  - `Task`: Stores task-related information, including a name, description, and optional embeddings.  \n",
    "- **Paths & Naming:** Defines paths for raw and interim data storage, task names, a mapping of condition labels, and colors for visualization."
   ]
  },
  {
   "cell_type": "code",
   "execution_count": 258,
   "metadata": {},
   "outputs": [],
   "source": [
    "#####\n",
    "# Imports\n",
    "#####\n",
    "from pydantic import BaseModel\n",
    "from typing import List, Optional\n",
    "import os\n",
    "from docx import Document\n",
    "import re\n",
    "import utils\n",
    "import pandas as pd\n",
    "import pickle\n",
    "import numpy as np\n",
    "import scipy.stats as st\n",
    "import plotly.graph_objects as go\n",
    "\n",
    "#####\n",
    "# Helper functions\n",
    "#####\n",
    "def cosine_similarity(vec1, vec2):\n",
    "    \"\"\"Compute the cosine similarity between two vectors.\"\"\"\n",
    "    v1 = np.array(vec1)\n",
    "    v2 = np.array(vec2)\n",
    "    norm1 = np.linalg.norm(v1)\n",
    "    norm2 = np.linalg.norm(v2)\n",
    "    if norm1 == 0 or norm2 == 0:\n",
    "        return 0.0\n",
    "    return np.dot(v1, v2) / (norm1 * norm2)\n",
    "\n",
    "#####\n",
    "# Datamodels\n",
    "#####\n",
    "class Run(BaseModel):\n",
    "    run_number: int\n",
    "    report: str\n",
    "    embeddings: Optional[List[float]] = None\n",
    "\n",
    "class Report(BaseModel):\n",
    "    name: str\n",
    "    run: List[Run]\n",
    "    condition: List[str]\n",
    "\n",
    "class Task(BaseModel):\n",
    "    task_name: str\n",
    "    description: str\n",
    "    embeddings: Optional[List[float]] = None\n",
    "\n",
    "#####\n",
    "# Paths & Naming\n",
    "#####\n",
    "\n",
    "condition_path = \"data/raw/conditions.xlsx\"\n",
    "task_directory = \"data/raw/tasks\"\n",
    "report_directory = \"data/raw/reports\"\n",
    "embedded_reports = \"data/interim/reports.pkl\"\n",
    "embedded_tasks = \"data/interim/tasks.pkl\"\n",
    "task_names = [\"Gehen\",\"Schreibtisch\",\"Tisch\"]\n",
    "conditions_map = {\n",
    "    1: \"complete\",\n",
    "    2: \"uncompleted\",\n",
    "    3: \"interrupted\"\n",
    "}\n",
    "colors = [\n",
    "    \"rgba(255, 0, 0, 0.6)\", # red\n",
    "    \"rgba(0, 255, 0, 0.6)\", # green\n",
    "    \"rgba(0, 0, 255, 0.6)\" # blue\n",
    "    ]\n",
    "\n",
    "with open(embedded_tasks, \"rb\") as f:\n",
    "    tasks_data = pickle.load(f)\n",
    "tasks = [Task(**data) for data in tasks_data]\n",
    "\n",
    "with open(embedded_reports, \"rb\") as f:\n",
    "    report_data = pickle.load(f)\n",
    "reports = [Report(**data) for data in report_data]\n"
   ]
  },
  {
   "cell_type": "markdown",
   "metadata": {},
   "source": [
    "-----"
   ]
  },
  {
   "cell_type": "markdown",
   "metadata": {},
   "source": [
    "### **Load and Filter Condition Data**\n",
    "- Reads an Excel file (`conditions.xlsx`) containing experimental condition data.  \n",
    "- Filters the dataset to include only entries where the `Experimentator` is `\"Maren\"` or `\"Philipp\"` or `both` and the `Metric` is `\"full_text\"`.  \n",
    "- Set a switch to decide if you want to look at Maren's, Philipp's or both datasets combined.\n",
    "- Creates a dictionary (`condition_dict`) mapping participants (`Proband`), tasks, and conditions."
   ]
  },
  {
   "cell_type": "code",
   "execution_count": 259,
   "metadata": {},
   "outputs": [],
   "source": [
    "# Only switch one to true\n",
    "Maren = False # You can set this to True/False to change the datasets\n",
    "Philipp = True # You can set this to True/False to change the datasets\n",
    "Both = False # You can set this to True/False to change the datasets\n",
    "\n",
    "df = pd.read_excel(condition_path, sheet_name='table incl full_text')\n",
    "if Maren == True:\n",
    "    df_restricted = df[(df['Experimentator'] == 'Maren')& (df['Metric'] == \"full_text\")] # Maren\n",
    "elif Philipp == True:\n",
    "    df_restricted = df[(df['Experimentator'] == 'Philipp')& (df['Metric'] == \"full_text\")] # Philipp\n",
    "elif Both == True:\n",
    "    df_restricted = df # Both\n",
    "condition_dict = df_restricted[['Proband', 'Task', 'Condition']].to_dict(orient='records')"
   ]
  },
  {
   "cell_type": "markdown",
   "metadata": {},
   "source": [
    "----"
   ]
  },
  {
   "cell_type": "markdown",
   "metadata": {},
   "source": [
    "\n",
    "### **Load and Process Task Descriptions**\n",
    "- Lists all `.docx` files in the `task_directory`.  \n",
    "- Iterates through each task document, extracts its text, and stores it in a `Task` object.  \n",
    "- The task descriptions are stored in a list, associating each with a predefined task name.\n"
   ]
  },
  {
   "cell_type": "code",
   "execution_count": 260,
   "metadata": {},
   "outputs": [],
   "source": [
    "# List all .docx files in the directory\n",
    "task_files = [f for f in os.listdir(task_directory) if f.endswith('.docx')]\n",
    "tasks = []\n",
    "# Iterate over each file and extract text\n",
    "for idx, file in enumerate(task_files, 0):\n",
    "    file_path = os.path.join(task_directory, file)\n",
    "    doc = Document(file_path)\n",
    "    text = \"\"\n",
    "    for para in doc.paragraphs:\n",
    "        # Create a Task object for each paragraph\n",
    "        text += para.text\n",
    "    task = Task(task_name=f\"{[task_names[idx]]}\", description=text)\n",
    "    tasks.append(task)\n"
   ]
  },
  {
   "cell_type": "markdown",
   "metadata": {},
   "source": [
    "----"
   ]
  },
  {
   "cell_type": "markdown",
   "metadata": {},
   "source": [
    "### **Load and Process Reports**\n",
    "- Scans subdirectories in `report_directory` to find `.docx` report files that start with `\"M\"`.  \n",
    "- Extracts the participant identifier (`Proband`) from the filename.  \n",
    "- Iterates through each document, identifying experimental runs using specific markers (e.g., `\"INT-Pb21-W1\"`).  \n",
    "- Splits the text into runs and maps them to their corresponding participant conditions using `condition_dict`.  \n",
    "- Constructs a `Report` object with the extracted runs and associated conditions, appending it to a list."
   ]
  },
  {
   "cell_type": "code",
   "execution_count": 261,
   "metadata": {},
   "outputs": [],
   "source": [
    "# List all subdirectories in the report directory\n",
    "subdirs = [d for d in os.listdir(report_directory) if os.path.isdir(os.path.join(report_directory, d))]\n",
    "# List all .docx files in the subdirectories that start with \"M\" for Maren\n",
    "# List all .docx files in the subdirectories that start with \"P\" for Philipp\n",
    "report_files = [\n",
    "    f\"{report_directory}/{subdir}/{f}\" # File path\n",
    "    for subdir in subdirs # Subdirectory\n",
    "    for f in os.listdir(os.path.join(report_directory, subdir)) # File\n",
    "    if f.endswith('.docx') and (\n",
    "        (Maren and subdir.startswith(\"M\")) or \n",
    "        (Philipp and subdir.startswith(\"P\")) or \n",
    "        (Both and (subdir.startswith(\"P\") or subdir.startswith(\"M\")))\n",
    "        )  # Apply filter based on switch\n",
    "    ]\n",
    "reports = []\n",
    "for file_path in report_files:\n",
    "    doc = Document(file_path)\n",
    "    report_name = re.search(r'\\d+', file_path).group()\n",
    "    runs = []\n",
    "    current_run_text = []\n",
    "    current_run_number = None\n",
    "    for para in doc.paragraphs:\n",
    "        text = para.text.strip()\n",
    "        # Check if the paragraph is a run marker (e.g., \"INT-Pb21-W1\" for Maren and 'W4 (REM)' for Philipp)\n",
    "        if (\n",
    "            (Both and ((text.startswith(\"INT-\") and \"-W\" in text) or (text.startswith(\"W\") and \" (\" in text))) or\n",
    "            (Philipp and text.startswith(\"W\") and \" (\" in text) or\n",
    "            (Maren and text.startswith(\"INT-\") and \"-W\" in text)\n",
    "        ):   # Maren, Philipp, or Both\n",
    "            # If there's an active run, save it before starting a new one\n",
    "            if current_run_number is not None:\n",
    "                raw_text = \"\\n\".join(current_run_text).strip()\n",
    "                runs.append(Run(\n",
    "                    run_number=current_run_number,\n",
    "                    report=raw_text, \n",
    "                ))\n",
    "            # Extract the run number from the marker using regex\n",
    "            if Maren:\n",
    "                match = re.search(r'-W(\\d+)', text)\n",
    "            elif Philipp:\n",
    "                match = re.search(r'W(\\d+)\\s\\(', text)\n",
    "            elif Both:\n",
    "                match = re.search(r'-W(\\d+)|W(\\d+)\\s\\(', text)\n",
    "              \n",
    "            # current_run_number = int(match.group(1)) if match else None\n",
    "            if match:\n",
    "                match_number = match.group(1) if match.group(1) is not None else match.group(2)\n",
    "                current_run_number = int(match_number) if match_number is not None else None\n",
    "            else:\n",
    "                current_run_number = None\n",
    "\n",
    "            current_run_text = []  # Reset the run text accumulator\n",
    "        else:\n",
    "            # Otherwise, accumulate text for the current run\n",
    "            current_run_text.append(text)\n",
    "    \n",
    "    # Add the last run if it exists\n",
    "    if current_run_number is not None and current_run_text:\n",
    "        runs.append(Run(\n",
    "            run_number=current_run_number,\n",
    "            report=\"\\n\".join(current_run_text).strip()\n",
    "        ))\n",
    "    conditions = [entry[\"Condition\"] for entry in condition_dict if entry[\"Proband\"] == int(report_name)]\n",
    "    # Create the Report object using the correct field name 'run'\n",
    "    report = Report(name=report_name, run=runs, condition=[conditions_map[num][0] for num in conditions[:3]])\n",
    "    reports.append(report)"
   ]
  },
  {
   "cell_type": "markdown",
   "metadata": {},
   "source": [
    "----"
   ]
  },
  {
   "cell_type": "markdown",
   "metadata": {},
   "source": [
    "### **Generate and Store Text Embeddings**\n",
    "- Extracts task descriptions and asynchronously generates their embeddings using `utils.batch_generate_embeddings()`.  \n",
    "- Iterates through each `Report`, processing its runs to generate embeddings for the run text.  \n",
    "- Saves the processed `reports` and `tasks` as pickled files (`reports.pkl`, `tasks.pkl`) for later use.\n"
   ]
  },
  {
   "cell_type": "code",
   "execution_count": 262,
   "metadata": {},
   "outputs": [
    {
     "name": "stderr",
     "output_type": "stream",
     "text": [
      "C:\\Users\\jufechner\\AppData\\Local\\Temp\\ipykernel_17728\\1423086738.py:20: PydanticDeprecatedSince20:\n",
      "\n",
      "The `dict` method is deprecated; use `model_dump` instead. Deprecated in Pydantic V2.0 to be removed in V3.0. See Pydantic V2 Migration Guide at https://errors.pydantic.dev/2.10/migration/\n",
      "\n",
      "C:\\Users\\jufechner\\AppData\\Local\\Temp\\ipykernel_17728\\1423086738.py:23: PydanticDeprecatedSince20:\n",
      "\n",
      "The `dict` method is deprecated; use `model_dump` instead. Deprecated in Pydantic V2.0 to be removed in V3.0. See Pydantic V2 Migration Guide at https://errors.pydantic.dev/2.10/migration/\n",
      "\n"
     ]
    }
   ],
   "source": [
    "# Process Task embeddings\n",
    "task_texts = [task.description for task in tasks]\n",
    "# Generate embeddings asynchronously for all tasks at once\n",
    "tasks_embeddings = await utils.batch_generate_embeddings(task_texts)\n",
    "# Update each Task with its corresponding embedding\n",
    "for task, emb in zip(tasks, tasks_embeddings):\n",
    "    task.embeddings = emb\n",
    "\n",
    "# Process Report Run embeddings\n",
    "for report in reports:\n",
    "    run_texts = [run.report for run in report.run]\n",
    "    if run_texts:  # Only process if there are runs in the report\n",
    "        runs_embeddings = await utils.batch_generate_embeddings(run_texts)\n",
    "        for run, emb in zip(report.run, runs_embeddings):\n",
    "            run.embeddings = emb\n",
    "\n",
    "\n",
    "# Cache the embedded reports and tasks\n",
    "with open(embedded_reports, \"wb\") as f:\n",
    "    pickle.dump([report.dict() for report in reports], f)\n",
    "\n",
    "with open(embedded_tasks, \"wb\") as f:\n",
    "    pickle.dump([task.dict() for task in tasks], f)\n"
   ]
  },
  {
   "cell_type": "markdown",
   "metadata": {},
   "source": [
    "----"
   ]
  },
  {
   "cell_type": "markdown",
   "metadata": {},
   "source": [
    "### **Compute Similarity Scores**\n",
    "- Iterates through reports and their corresponding runs.  \n",
    "- Computes cosine similarity scores between each run's embeddings and task embeddings.  \n",
    "- Groups similarity scores by experimental conditions."
   ]
  },
  {
   "cell_type": "code",
   "execution_count": 263,
   "metadata": {},
   "outputs": [],
   "source": [
    "# Aggregate similarity scores overall (ignoring tasks) but grouped by condition.\n",
    "similarity_by_condition = {}\n",
    "\n",
    "for report in reports:\n",
    "    for run in report.run:\n",
    "        # Skip runs with empty text or missing embeddings.\n",
    "        if not run.report.strip() or run.embeddings is None:\n",
    "            continue\n",
    "        for idx, task in enumerate(tasks):\n",
    "            if task.embeddings is None:\n",
    "                continue\n",
    "            score = cosine_similarity(run.embeddings, task.embeddings)\n",
    "            similarity_by_condition.setdefault(report.condition[idx], []).append(score)\n",
    "\n"
   ]
  },
  {
   "cell_type": "markdown",
   "metadata": {},
   "source": [
    "----"
   ]
  },
  {
   "cell_type": "markdown",
   "metadata": {},
   "source": [
    "### **Visualize Similarity Distributions**\n",
    "- Initializes a Plotly figure to visualize the cosine similarity distributions by condition.  \n",
    "- Uses Gaussian Kernel Density Estimation (KDE) to estimate similarity score distributions.  \n",
    "- Normalizes density values for consistent visualization.  \n",
    "- Assigns colors to each condition and plots filled curves representing similarity distributions.  \n",
    "- Displays the final interactive figure."
   ]
  },
  {
   "cell_type": "code",
   "execution_count": 286,
   "metadata": {},
   "outputs": [
    {
     "data": {
      "application/vnd.plotly.v1+json": {
       "config": {
        "plotlyServerURL": "https://plot.ly"
       },
       "data": [
        {
         "fill": "tozeroy",
         "line": {
          "shape": "spline",
          "width": 2
         },
         "mode": "lines",
         "name": "i",
         "type": "scatter",
         "x": {
          "bdata": "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",
          "dtype": "f8"
         },
         "y": {
          "bdata": "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",
          "dtype": "f8"
         }
        },
        {
         "fill": "tozeroy",
         "line": {
          "shape": "spline",
          "width": 2
         },
         "mode": "lines",
         "name": "c",
         "type": "scatter",
         "x": {
          "bdata": "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",
          "dtype": "f8"
         },
         "y": {
          "bdata": "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",
          "dtype": "f8"
         }
        },
        {
         "fill": "tozeroy",
         "line": {
          "shape": "spline",
          "width": 2
         },
         "mode": "lines",
         "name": "u",
         "type": "scatter",
         "x": {
          "bdata": "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",
          "dtype": "f8"
         },
         "y": {
          "bdata": "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",
          "dtype": "f8"
         }
        }
       ],
       "layout": {
        "height": 600,
        "margin": {
         "b": 50,
         "l": 50,
         "r": 50,
         "t": 100
        },
        "template": {
         "data": {
          "bar": [
           {
            "error_x": {
             "color": "#2a3f5f"
            },
            "error_y": {
             "color": "#2a3f5f"
            },
            "marker": {
             "line": {
              "color": "white",
              "width": 0.5
             },
             "pattern": {
              "fillmode": "overlay",
              "size": 10,
              "solidity": 0.2
             }
            },
            "type": "bar"
           }
          ],
          "barpolar": [
           {
            "marker": {
             "line": {
              "color": "white",
              "width": 0.5
             },
             "pattern": {
              "fillmode": "overlay",
              "size": 10,
              "solidity": 0.2
             }
            },
            "type": "barpolar"
           }
          ],
          "carpet": [
           {
            "aaxis": {
             "endlinecolor": "#2a3f5f",
             "gridcolor": "#C8D4E3",
             "linecolor": "#C8D4E3",
             "minorgridcolor": "#C8D4E3",
             "startlinecolor": "#2a3f5f"
            },
            "baxis": {
             "endlinecolor": "#2a3f5f",
             "gridcolor": "#C8D4E3",
             "linecolor": "#C8D4E3",
             "minorgridcolor": "#C8D4E3",
             "startlinecolor": "#2a3f5f"
            },
            "type": "carpet"
           }
          ],
          "choropleth": [
           {
            "colorbar": {
             "outlinewidth": 0,
             "ticks": ""
            },
            "type": "choropleth"
           }
          ],
          "contour": [
           {
            "colorbar": {
             "outlinewidth": 0,
             "ticks": ""
            },
            "colorscale": [
             [
              0,
              "#0d0887"
             ],
             [
              0.1111111111111111,
              "#46039f"
             ],
             [
              0.2222222222222222,
              "#7201a8"
             ],
             [
              0.3333333333333333,
              "#9c179e"
             ],
             [
              0.4444444444444444,
              "#bd3786"
             ],
             [
              0.5555555555555556,
              "#d8576b"
             ],
             [
              0.6666666666666666,
              "#ed7953"
             ],
             [
              0.7777777777777778,
              "#fb9f3a"
             ],
             [
              0.8888888888888888,
              "#fdca26"
             ],
             [
              1,
              "#f0f921"
             ]
            ],
            "type": "contour"
           }
          ],
          "contourcarpet": [
           {
            "colorbar": {
             "outlinewidth": 0,
             "ticks": ""
            },
            "type": "contourcarpet"
           }
          ],
          "heatmap": [
           {
            "colorbar": {
             "outlinewidth": 0,
             "ticks": ""
            },
            "colorscale": [
             [
              0,
              "#0d0887"
             ],
             [
              0.1111111111111111,
              "#46039f"
             ],
             [
              0.2222222222222222,
              "#7201a8"
             ],
             [
              0.3333333333333333,
              "#9c179e"
             ],
             [
              0.4444444444444444,
              "#bd3786"
             ],
             [
              0.5555555555555556,
              "#d8576b"
             ],
             [
              0.6666666666666666,
              "#ed7953"
             ],
             [
              0.7777777777777778,
              "#fb9f3a"
             ],
             [
              0.8888888888888888,
              "#fdca26"
             ],
             [
              1,
              "#f0f921"
             ]
            ],
            "type": "heatmap"
           }
          ],
          "histogram": [
           {
            "marker": {
             "pattern": {
              "fillmode": "overlay",
              "size": 10,
              "solidity": 0.2
             }
            },
            "type": "histogram"
           }
          ],
          "histogram2d": [
           {
            "colorbar": {
             "outlinewidth": 0,
             "ticks": ""
            },
            "colorscale": [
             [
              0,
              "#0d0887"
             ],
             [
              0.1111111111111111,
              "#46039f"
             ],
             [
              0.2222222222222222,
              "#7201a8"
             ],
             [
              0.3333333333333333,
              "#9c179e"
             ],
             [
              0.4444444444444444,
              "#bd3786"
             ],
             [
              0.5555555555555556,
              "#d8576b"
             ],
             [
              0.6666666666666666,
              "#ed7953"
             ],
             [
              0.7777777777777778,
              "#fb9f3a"
             ],
             [
              0.8888888888888888,
              "#fdca26"
             ],
             [
              1,
              "#f0f921"
             ]
            ],
            "type": "histogram2d"
           }
          ],
          "histogram2dcontour": [
           {
            "colorbar": {
             "outlinewidth": 0,
             "ticks": ""
            },
            "colorscale": [
             [
              0,
              "#0d0887"
             ],
             [
              0.1111111111111111,
              "#46039f"
             ],
             [
              0.2222222222222222,
              "#7201a8"
             ],
             [
              0.3333333333333333,
              "#9c179e"
             ],
             [
              0.4444444444444444,
              "#bd3786"
             ],
             [
              0.5555555555555556,
              "#d8576b"
             ],
             [
              0.6666666666666666,
              "#ed7953"
             ],
             [
              0.7777777777777778,
              "#fb9f3a"
             ],
             [
              0.8888888888888888,
              "#fdca26"
             ],
             [
              1,
              "#f0f921"
             ]
            ],
            "type": "histogram2dcontour"
           }
          ],
          "mesh3d": [
           {
            "colorbar": {
             "outlinewidth": 0,
             "ticks": ""
            },
            "type": "mesh3d"
           }
          ],
          "parcoords": [
           {
            "line": {
             "colorbar": {
              "outlinewidth": 0,
              "ticks": ""
             }
            },
            "type": "parcoords"
           }
          ],
          "pie": [
           {
            "automargin": true,
            "type": "pie"
           }
          ],
          "scatter": [
           {
            "fillpattern": {
             "fillmode": "overlay",
             "size": 10,
             "solidity": 0.2
            },
            "type": "scatter"
           }
          ],
          "scatter3d": [
           {
            "line": {
             "colorbar": {
              "outlinewidth": 0,
              "ticks": ""
             }
            },
            "marker": {
             "colorbar": {
              "outlinewidth": 0,
              "ticks": ""
             }
            },
            "type": "scatter3d"
           }
          ],
          "scattercarpet": [
           {
            "marker": {
             "colorbar": {
              "outlinewidth": 0,
              "ticks": ""
             }
            },
            "type": "scattercarpet"
           }
          ],
          "scattergeo": [
           {
            "marker": {
             "colorbar": {
              "outlinewidth": 0,
              "ticks": ""
             }
            },
            "type": "scattergeo"
           }
          ],
          "scattergl": [
           {
            "marker": {
             "colorbar": {
              "outlinewidth": 0,
              "ticks": ""
             }
            },
            "type": "scattergl"
           }
          ],
          "scattermap": [
           {
            "marker": {
             "colorbar": {
              "outlinewidth": 0,
              "ticks": ""
             }
            },
            "type": "scattermap"
           }
          ],
          "scattermapbox": [
           {
            "marker": {
             "colorbar": {
              "outlinewidth": 0,
              "ticks": ""
             }
            },
            "type": "scattermapbox"
           }
          ],
          "scatterpolar": [
           {
            "marker": {
             "colorbar": {
              "outlinewidth": 0,
              "ticks": ""
             }
            },
            "type": "scatterpolar"
           }
          ],
          "scatterpolargl": [
           {
            "marker": {
             "colorbar": {
              "outlinewidth": 0,
              "ticks": ""
             }
            },
            "type": "scatterpolargl"
           }
          ],
          "scatterternary": [
           {
            "marker": {
             "colorbar": {
              "outlinewidth": 0,
              "ticks": ""
             }
            },
            "type": "scatterternary"
           }
          ],
          "surface": [
           {
            "colorbar": {
             "outlinewidth": 0,
             "ticks": ""
            },
            "colorscale": [
             [
              0,
              "#0d0887"
             ],
             [
              0.1111111111111111,
              "#46039f"
             ],
             [
              0.2222222222222222,
              "#7201a8"
             ],
             [
              0.3333333333333333,
              "#9c179e"
             ],
             [
              0.4444444444444444,
              "#bd3786"
             ],
             [
              0.5555555555555556,
              "#d8576b"
             ],
             [
              0.6666666666666666,
              "#ed7953"
             ],
             [
              0.7777777777777778,
              "#fb9f3a"
             ],
             [
              0.8888888888888888,
              "#fdca26"
             ],
             [
              1,
              "#f0f921"
             ]
            ],
            "type": "surface"
           }
          ],
          "table": [
           {
            "cells": {
             "fill": {
              "color": "#EBF0F8"
             },
             "line": {
              "color": "white"
             }
            },
            "header": {
             "fill": {
              "color": "#C8D4E3"
             },
             "line": {
              "color": "white"
             }
            },
            "type": "table"
           }
          ]
         },
         "layout": {
          "annotationdefaults": {
           "arrowcolor": "#2a3f5f",
           "arrowhead": 0,
           "arrowwidth": 1
          },
          "autotypenumbers": "strict",
          "coloraxis": {
           "colorbar": {
            "outlinewidth": 0,
            "ticks": ""
           }
          },
          "colorscale": {
           "diverging": [
            [
             0,
             "#8e0152"
            ],
            [
             0.1,
             "#c51b7d"
            ],
            [
             0.2,
             "#de77ae"
            ],
            [
             0.3,
             "#f1b6da"
            ],
            [
             0.4,
             "#fde0ef"
            ],
            [
             0.5,
             "#f7f7f7"
            ],
            [
             0.6,
             "#e6f5d0"
            ],
            [
             0.7,
             "#b8e186"
            ],
            [
             0.8,
             "#7fbc41"
            ],
            [
             0.9,
             "#4d9221"
            ],
            [
             1,
             "#276419"
            ]
           ],
           "sequential": [
            [
             0,
             "#0d0887"
            ],
            [
             0.1111111111111111,
             "#46039f"
            ],
            [
             0.2222222222222222,
             "#7201a8"
            ],
            [
             0.3333333333333333,
             "#9c179e"
            ],
            [
             0.4444444444444444,
             "#bd3786"
            ],
            [
             0.5555555555555556,
             "#d8576b"
            ],
            [
             0.6666666666666666,
             "#ed7953"
            ],
            [
             0.7777777777777778,
             "#fb9f3a"
            ],
            [
             0.8888888888888888,
             "#fdca26"
            ],
            [
             1,
             "#f0f921"
            ]
           ],
           "sequentialminus": [
            [
             0,
             "#0d0887"
            ],
            [
             0.1111111111111111,
             "#46039f"
            ],
            [
             0.2222222222222222,
             "#7201a8"
            ],
            [
             0.3333333333333333,
             "#9c179e"
            ],
            [
             0.4444444444444444,
             "#bd3786"
            ],
            [
             0.5555555555555556,
             "#d8576b"
            ],
            [
             0.6666666666666666,
             "#ed7953"
            ],
            [
             0.7777777777777778,
             "#fb9f3a"
            ],
            [
             0.8888888888888888,
             "#fdca26"
            ],
            [
             1,
             "#f0f921"
            ]
           ]
          },
          "colorway": [
           "#636efa",
           "#EF553B",
           "#00cc96",
           "#ab63fa",
           "#FFA15A",
           "#19d3f3",
           "#FF6692",
           "#B6E880",
           "#FF97FF",
           "#FECB52"
          ],
          "font": {
           "color": "#2a3f5f"
          },
          "geo": {
           "bgcolor": "white",
           "lakecolor": "white",
           "landcolor": "white",
           "showlakes": true,
           "showland": true,
           "subunitcolor": "#C8D4E3"
          },
          "hoverlabel": {
           "align": "left"
          },
          "hovermode": "closest",
          "mapbox": {
           "style": "light"
          },
          "paper_bgcolor": "white",
          "plot_bgcolor": "white",
          "polar": {
           "angularaxis": {
            "gridcolor": "#EBF0F8",
            "linecolor": "#EBF0F8",
            "ticks": ""
           },
           "bgcolor": "white",
           "radialaxis": {
            "gridcolor": "#EBF0F8",
            "linecolor": "#EBF0F8",
            "ticks": ""
           }
          },
          "scene": {
           "xaxis": {
            "backgroundcolor": "white",
            "gridcolor": "#DFE8F3",
            "gridwidth": 2,
            "linecolor": "#EBF0F8",
            "showbackground": true,
            "ticks": "",
            "zerolinecolor": "#EBF0F8"
           },
           "yaxis": {
            "backgroundcolor": "white",
            "gridcolor": "#DFE8F3",
            "gridwidth": 2,
            "linecolor": "#EBF0F8",
            "showbackground": true,
            "ticks": "",
            "zerolinecolor": "#EBF0F8"
           },
           "zaxis": {
            "backgroundcolor": "white",
            "gridcolor": "#DFE8F3",
            "gridwidth": 2,
            "linecolor": "#EBF0F8",
            "showbackground": true,
            "ticks": "",
            "zerolinecolor": "#EBF0F8"
           }
          },
          "shapedefaults": {
           "line": {
            "color": "#2a3f5f"
           }
          },
          "ternary": {
           "aaxis": {
            "gridcolor": "#DFE8F3",
            "linecolor": "#A2B1C6",
            "ticks": ""
           },
           "baxis": {
            "gridcolor": "#DFE8F3",
            "linecolor": "#A2B1C6",
            "ticks": ""
           },
           "bgcolor": "white",
           "caxis": {
            "gridcolor": "#DFE8F3",
            "linecolor": "#A2B1C6",
            "ticks": ""
           }
          },
          "title": {
           "x": 0.05
          },
          "xaxis": {
           "automargin": true,
           "gridcolor": "#EBF0F8",
           "linecolor": "#EBF0F8",
           "ticks": "",
           "title": {
            "standoff": 15
           },
           "zerolinecolor": "#EBF0F8",
           "zerolinewidth": 2
          },
          "yaxis": {
           "automargin": true,
           "gridcolor": "#EBF0F8",
           "linecolor": "#EBF0F8",
           "ticks": "",
           "title": {
            "standoff": 15
           },
           "zerolinecolor": "#EBF0F8",
           "zerolinewidth": 2
          }
         }
        },
        "title": {
         "text": "Cosine Similarity Distributions by Condition"
        },
        "width": 800,
        "xaxis": {
         "range": [
          0,
          1
         ],
         "title": {
          "text": "Cosine Similarity"
         }
        },
        "yaxis": {
         "title": {
          "text": "Normalized Density"
         }
        }
       }
      }
     },
     "metadata": {},
     "output_type": "display_data"
    }
   ],
   "source": [
    "fig = go.Figure()\n",
    "\n",
    "# Ensure consistent color assignment across runs\n",
    "condition_names = {1: \"complete\", 2: \"uncompleted\", 3: \"interrupted\"}  # Ensure mapping\n",
    "color_map = {name: colors[i] for i, name in enumerate(condition_names.values())}  # Fixed mapping\n",
    "\n",
    "# For each condition, compute the KDE and add a filled trace.\n",
    "for cond, sim_list in similarity_by_condition.items():\n",
    "    if not sim_list:\n",
    "        continue\n",
    "    \n",
    "    kde = st.gaussian_kde(sim_list)\n",
    "    x_vals = np.linspace(0, 1, 200)\n",
    "    y_vals = kde(x_vals)\n",
    "    y_vals_norm = (y_vals - np.min(y_vals)) / (np.max(y_vals) - np.min(y_vals)) * 0.8\n",
    "    \n",
    "    full_cond_name = condition_names.get(cond, str(cond))  # Ensure full name appears in legend\n",
    "    fig.add_trace(go.Scatter(\n",
    "        x=x_vals,\n",
    "        y=y_vals_norm,\n",
    "        mode=\"lines\",\n",
    "        line_shape=\"spline\",\n",
    "        fill=\"tozeroy\",\n",
    "        line=dict(color=color_map.get(full_cond_name), width=2),\n",
    "        fillcolor=color_map.get(full_cond_name),\n",
    "        name=full_cond_name  # Use full name in legend\n",
    "    ))\n",
    "\n",
    "# Update layout.\n",
    "fig.update_layout(\n",
    "    title=\"Cosine Similarity Distributions by Condition\",\n",
    "    xaxis_title=\"Cosine Similarity\",\n",
    "    yaxis_title=\"Normalized Density\",\n",
    "    template=\"plotly_white\",\n",
    "    width=800,\n",
    "    height=600,\n",
    "    margin=dict(l=50, r=50, t=100, b=50)\n",
    ")\n",
    "fig.update_xaxes(range=[0, 1])\n",
    "fig.show()\n"
   ]
  },
  {
   "cell_type": "code",
   "execution_count": 266,
   "metadata": {},
   "outputs": [
    {
     "data": {
      "application/vnd.plotly.v1+json": {
       "config": {
        "plotlyServerURL": "https://plot.ly"
       },
       "data": [
        {
         "fill": "tozeroy",
         "line": {
          "shape": "spline",
          "width": 2
         },
         "mode": "lines",
         "name": "i",
         "type": "scatter",
         "x": {
          "bdata": "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",
          "dtype": "f8"
         },
         "y": {
          "bdata": "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",
          "dtype": "f8"
         }
        },
        {
         "fill": "tozeroy",
         "line": {
          "shape": "spline",
          "width": 2
         },
         "mode": "lines",
         "name": "c",
         "type": "scatter",
         "x": {
          "bdata": "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",
          "dtype": "f8"
         },
         "y": {
          "bdata": "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",
          "dtype": "f8"
         }
        },
        {
         "fill": "tozeroy",
         "line": {
          "shape": "spline",
          "width": 2
         },
         "mode": "lines",
         "name": "u",
         "type": "scatter",
         "x": {
          "bdata": "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",
          "dtype": "f8"
         },
         "y": {
          "bdata": "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",
          "dtype": "f8"
         }
        }
       ],
       "layout": {
        "height": 600,
        "margin": {
         "b": 50,
         "l": 50,
         "r": 50,
         "t": 100
        },
        "template": {
         "data": {
          "bar": [
           {
            "error_x": {
             "color": "#2a3f5f"
            },
            "error_y": {
             "color": "#2a3f5f"
            },
            "marker": {
             "line": {
              "color": "white",
              "width": 0.5
             },
             "pattern": {
              "fillmode": "overlay",
              "size": 10,
              "solidity": 0.2
             }
            },
            "type": "bar"
           }
          ],
          "barpolar": [
           {
            "marker": {
             "line": {
              "color": "white",
              "width": 0.5
             },
             "pattern": {
              "fillmode": "overlay",
              "size": 10,
              "solidity": 0.2
             }
            },
            "type": "barpolar"
           }
          ],
          "carpet": [
           {
            "aaxis": {
             "endlinecolor": "#2a3f5f",
             "gridcolor": "#C8D4E3",
             "linecolor": "#C8D4E3",
             "minorgridcolor": "#C8D4E3",
             "startlinecolor": "#2a3f5f"
            },
            "baxis": {
             "endlinecolor": "#2a3f5f",
             "gridcolor": "#C8D4E3",
             "linecolor": "#C8D4E3",
             "minorgridcolor": "#C8D4E3",
             "startlinecolor": "#2a3f5f"
            },
            "type": "carpet"
           }
          ],
          "choropleth": [
           {
            "colorbar": {
             "outlinewidth": 0,
             "ticks": ""
            },
            "type": "choropleth"
           }
          ],
          "contour": [
           {
            "colorbar": {
             "outlinewidth": 0,
             "ticks": ""
            },
            "colorscale": [
             [
              0,
              "#0d0887"
             ],
             [
              0.1111111111111111,
              "#46039f"
             ],
             [
              0.2222222222222222,
              "#7201a8"
             ],
             [
              0.3333333333333333,
              "#9c179e"
             ],
             [
              0.4444444444444444,
              "#bd3786"
             ],
             [
              0.5555555555555556,
              "#d8576b"
             ],
             [
              0.6666666666666666,
              "#ed7953"
             ],
             [
              0.7777777777777778,
              "#fb9f3a"
             ],
             [
              0.8888888888888888,
              "#fdca26"
             ],
             [
              1,
              "#f0f921"
             ]
            ],
            "type": "contour"
           }
          ],
          "contourcarpet": [
           {
            "colorbar": {
             "outlinewidth": 0,
             "ticks": ""
            },
            "type": "contourcarpet"
           }
          ],
          "heatmap": [
           {
            "colorbar": {
             "outlinewidth": 0,
             "ticks": ""
            },
            "colorscale": [
             [
              0,
              "#0d0887"
             ],
             [
              0.1111111111111111,
              "#46039f"
             ],
             [
              0.2222222222222222,
              "#7201a8"
             ],
             [
              0.3333333333333333,
              "#9c179e"
             ],
             [
              0.4444444444444444,
              "#bd3786"
             ],
             [
              0.5555555555555556,
              "#d8576b"
             ],
             [
              0.6666666666666666,
              "#ed7953"
             ],
             [
              0.7777777777777778,
              "#fb9f3a"
             ],
             [
              0.8888888888888888,
              "#fdca26"
             ],
             [
              1,
              "#f0f921"
             ]
            ],
            "type": "heatmap"
           }
          ],
          "histogram": [
           {
            "marker": {
             "pattern": {
              "fillmode": "overlay",
              "size": 10,
              "solidity": 0.2
             }
            },
            "type": "histogram"
           }
          ],
          "histogram2d": [
           {
            "colorbar": {
             "outlinewidth": 0,
             "ticks": ""
            },
            "colorscale": [
             [
              0,
              "#0d0887"
             ],
             [
              0.1111111111111111,
              "#46039f"
             ],
             [
              0.2222222222222222,
              "#7201a8"
             ],
             [
              0.3333333333333333,
              "#9c179e"
             ],
             [
              0.4444444444444444,
              "#bd3786"
             ],
             [
              0.5555555555555556,
              "#d8576b"
             ],
             [
              0.6666666666666666,
              "#ed7953"
             ],
             [
              0.7777777777777778,
              "#fb9f3a"
             ],
             [
              0.8888888888888888,
              "#fdca26"
             ],
             [
              1,
              "#f0f921"
             ]
            ],
            "type": "histogram2d"
           }
          ],
          "histogram2dcontour": [
           {
            "colorbar": {
             "outlinewidth": 0,
             "ticks": ""
            },
            "colorscale": [
             [
              0,
              "#0d0887"
             ],
             [
              0.1111111111111111,
              "#46039f"
             ],
             [
              0.2222222222222222,
              "#7201a8"
             ],
             [
              0.3333333333333333,
              "#9c179e"
             ],
             [
              0.4444444444444444,
              "#bd3786"
             ],
             [
              0.5555555555555556,
              "#d8576b"
             ],
             [
              0.6666666666666666,
              "#ed7953"
             ],
             [
              0.7777777777777778,
              "#fb9f3a"
             ],
             [
              0.8888888888888888,
              "#fdca26"
             ],
             [
              1,
              "#f0f921"
             ]
            ],
            "type": "histogram2dcontour"
           }
          ],
          "mesh3d": [
           {
            "colorbar": {
             "outlinewidth": 0,
             "ticks": ""
            },
            "type": "mesh3d"
           }
          ],
          "parcoords": [
           {
            "line": {
             "colorbar": {
              "outlinewidth": 0,
              "ticks": ""
             }
            },
            "type": "parcoords"
           }
          ],
          "pie": [
           {
            "automargin": true,
            "type": "pie"
           }
          ],
          "scatter": [
           {
            "fillpattern": {
             "fillmode": "overlay",
             "size": 10,
             "solidity": 0.2
            },
            "type": "scatter"
           }
          ],
          "scatter3d": [
           {
            "line": {
             "colorbar": {
              "outlinewidth": 0,
              "ticks": ""
             }
            },
            "marker": {
             "colorbar": {
              "outlinewidth": 0,
              "ticks": ""
             }
            },
            "type": "scatter3d"
           }
          ],
          "scattercarpet": [
           {
            "marker": {
             "colorbar": {
              "outlinewidth": 0,
              "ticks": ""
             }
            },
            "type": "scattercarpet"
           }
          ],
          "scattergeo": [
           {
            "marker": {
             "colorbar": {
              "outlinewidth": 0,
              "ticks": ""
             }
            },
            "type": "scattergeo"
           }
          ],
          "scattergl": [
           {
            "marker": {
             "colorbar": {
              "outlinewidth": 0,
              "ticks": ""
             }
            },
            "type": "scattergl"
           }
          ],
          "scattermap": [
           {
            "marker": {
             "colorbar": {
              "outlinewidth": 0,
              "ticks": ""
             }
            },
            "type": "scattermap"
           }
          ],
          "scattermapbox": [
           {
            "marker": {
             "colorbar": {
              "outlinewidth": 0,
              "ticks": ""
             }
            },
            "type": "scattermapbox"
           }
          ],
          "scatterpolar": [
           {
            "marker": {
             "colorbar": {
              "outlinewidth": 0,
              "ticks": ""
             }
            },
            "type": "scatterpolar"
           }
          ],
          "scatterpolargl": [
           {
            "marker": {
             "colorbar": {
              "outlinewidth": 0,
              "ticks": ""
             }
            },
            "type": "scatterpolargl"
           }
          ],
          "scatterternary": [
           {
            "marker": {
             "colorbar": {
              "outlinewidth": 0,
              "ticks": ""
             }
            },
            "type": "scatterternary"
           }
          ],
          "surface": [
           {
            "colorbar": {
             "outlinewidth": 0,
             "ticks": ""
            },
            "colorscale": [
             [
              0,
              "#0d0887"
             ],
             [
              0.1111111111111111,
              "#46039f"
             ],
             [
              0.2222222222222222,
              "#7201a8"
             ],
             [
              0.3333333333333333,
              "#9c179e"
             ],
             [
              0.4444444444444444,
              "#bd3786"
             ],
             [
              0.5555555555555556,
              "#d8576b"
             ],
             [
              0.6666666666666666,
              "#ed7953"
             ],
             [
              0.7777777777777778,
              "#fb9f3a"
             ],
             [
              0.8888888888888888,
              "#fdca26"
             ],
             [
              1,
              "#f0f921"
             ]
            ],
            "type": "surface"
           }
          ],
          "table": [
           {
            "cells": {
             "fill": {
              "color": "#EBF0F8"
             },
             "line": {
              "color": "white"
             }
            },
            "header": {
             "fill": {
              "color": "#C8D4E3"
             },
             "line": {
              "color": "white"
             }
            },
            "type": "table"
           }
          ]
         },
         "layout": {
          "annotationdefaults": {
           "arrowcolor": "#2a3f5f",
           "arrowhead": 0,
           "arrowwidth": 1
          },
          "autotypenumbers": "strict",
          "coloraxis": {
           "colorbar": {
            "outlinewidth": 0,
            "ticks": ""
           }
          },
          "colorscale": {
           "diverging": [
            [
             0,
             "#8e0152"
            ],
            [
             0.1,
             "#c51b7d"
            ],
            [
             0.2,
             "#de77ae"
            ],
            [
             0.3,
             "#f1b6da"
            ],
            [
             0.4,
             "#fde0ef"
            ],
            [
             0.5,
             "#f7f7f7"
            ],
            [
             0.6,
             "#e6f5d0"
            ],
            [
             0.7,
             "#b8e186"
            ],
            [
             0.8,
             "#7fbc41"
            ],
            [
             0.9,
             "#4d9221"
            ],
            [
             1,
             "#276419"
            ]
           ],
           "sequential": [
            [
             0,
             "#0d0887"
            ],
            [
             0.1111111111111111,
             "#46039f"
            ],
            [
             0.2222222222222222,
             "#7201a8"
            ],
            [
             0.3333333333333333,
             "#9c179e"
            ],
            [
             0.4444444444444444,
             "#bd3786"
            ],
            [
             0.5555555555555556,
             "#d8576b"
            ],
            [
             0.6666666666666666,
             "#ed7953"
            ],
            [
             0.7777777777777778,
             "#fb9f3a"
            ],
            [
             0.8888888888888888,
             "#fdca26"
            ],
            [
             1,
             "#f0f921"
            ]
           ],
           "sequentialminus": [
            [
             0,
             "#0d0887"
            ],
            [
             0.1111111111111111,
             "#46039f"
            ],
            [
             0.2222222222222222,
             "#7201a8"
            ],
            [
             0.3333333333333333,
             "#9c179e"
            ],
            [
             0.4444444444444444,
             "#bd3786"
            ],
            [
             0.5555555555555556,
             "#d8576b"
            ],
            [
             0.6666666666666666,
             "#ed7953"
            ],
            [
             0.7777777777777778,
             "#fb9f3a"
            ],
            [
             0.8888888888888888,
             "#fdca26"
            ],
            [
             1,
             "#f0f921"
            ]
           ]
          },
          "colorway": [
           "#636efa",
           "#EF553B",
           "#00cc96",
           "#ab63fa",
           "#FFA15A",
           "#19d3f3",
           "#FF6692",
           "#B6E880",
           "#FF97FF",
           "#FECB52"
          ],
          "font": {
           "color": "#2a3f5f"
          },
          "geo": {
           "bgcolor": "white",
           "lakecolor": "white",
           "landcolor": "white",
           "showlakes": true,
           "showland": true,
           "subunitcolor": "#C8D4E3"
          },
          "hoverlabel": {
           "align": "left"
          },
          "hovermode": "closest",
          "mapbox": {
           "style": "light"
          },
          "paper_bgcolor": "white",
          "plot_bgcolor": "white",
          "polar": {
           "angularaxis": {
            "gridcolor": "#EBF0F8",
            "linecolor": "#EBF0F8",
            "ticks": ""
           },
           "bgcolor": "white",
           "radialaxis": {
            "gridcolor": "#EBF0F8",
            "linecolor": "#EBF0F8",
            "ticks": ""
           }
          },
          "scene": {
           "xaxis": {
            "backgroundcolor": "white",
            "gridcolor": "#DFE8F3",
            "gridwidth": 2,
            "linecolor": "#EBF0F8",
            "showbackground": true,
            "ticks": "",
            "zerolinecolor": "#EBF0F8"
           },
           "yaxis": {
            "backgroundcolor": "white",
            "gridcolor": "#DFE8F3",
            "gridwidth": 2,
            "linecolor": "#EBF0F8",
            "showbackground": true,
            "ticks": "",
            "zerolinecolor": "#EBF0F8"
           },
           "zaxis": {
            "backgroundcolor": "white",
            "gridcolor": "#DFE8F3",
            "gridwidth": 2,
            "linecolor": "#EBF0F8",
            "showbackground": true,
            "ticks": "",
            "zerolinecolor": "#EBF0F8"
           }
          },
          "shapedefaults": {
           "line": {
            "color": "#2a3f5f"
           }
          },
          "ternary": {
           "aaxis": {
            "gridcolor": "#DFE8F3",
            "linecolor": "#A2B1C6",
            "ticks": ""
           },
           "baxis": {
            "gridcolor": "#DFE8F3",
            "linecolor": "#A2B1C6",
            "ticks": ""
           },
           "bgcolor": "white",
           "caxis": {
            "gridcolor": "#DFE8F3",
            "linecolor": "#A2B1C6",
            "ticks": ""
           }
          },
          "title": {
           "x": 0.05
          },
          "xaxis": {
           "automargin": true,
           "gridcolor": "#EBF0F8",
           "linecolor": "#EBF0F8",
           "ticks": "",
           "title": {
            "standoff": 15
           },
           "zerolinecolor": "#EBF0F8",
           "zerolinewidth": 2
          },
          "yaxis": {
           "automargin": true,
           "gridcolor": "#EBF0F8",
           "linecolor": "#EBF0F8",
           "ticks": "",
           "title": {
            "standoff": 15
           },
           "zerolinecolor": "#EBF0F8",
           "zerolinewidth": 2
          }
         }
        },
        "title": {
         "text": "Cosine Similarity Distributions by Condition"
        },
        "width": 800,
        "xaxis": {
         "range": [
          0,
          1
         ],
         "title": {
          "text": "Cosine Similarity"
         }
        },
        "yaxis": {
         "title": {
          "text": "Density"
         }
        }
       }
      }
     },
     "metadata": {},
     "output_type": "display_data"
    }
   ],
   "source": [
    "fig = go.Figure()\n",
    "# Define colors for conditions.\n",
    "color_map = {cond:colors[i] for i, cond in enumerate(conditions_map.values())}\n",
    "# For each condition, compute the KDE and add a filled trace.\n",
    "for cond, sim_list in similarity_by_condition.items():\n",
    "    data = sim_list\n",
    "    if not data:\n",
    "        continue\n",
    "    kde = st.gaussian_kde(data)\n",
    "    x_vals = np.linspace(0, 1, 200)\n",
    "    y_vals = kde(x_vals)\n",
    "    \n",
    "    fig.add_trace(go.Scatter(\n",
    "        x=x_vals,\n",
    "        y=y_vals,\n",
    "        mode=\"lines\",\n",
    "        line_shape=\"spline\",\n",
    "        fill=\"tozeroy\",\n",
    "        line=dict(color=color_map.get(cond), width=2),\n",
    "        fillcolor=color_map.get(cond),\n",
    "        name=cond\n",
    "    ))\n",
    "\n",
    "# Update layout.\n",
    "fig.update_layout(\n",
    "    title=\"Cosine Similarity Distributions by Condition\",\n",
    "    xaxis_title=\"Cosine Similarity\",\n",
    "    yaxis_title=\"Density\",\n",
    "    template=\"plotly_white\",\n",
    "    width=800,\n",
    "    height=600,\n",
    "    margin=dict(l=50, r=50, t=100, b=50)\n",
    ")\n",
    "fig.update_xaxes(range=[0, 1])\n",
    "fig.show()"
   ]
  }
 ],
 "metadata": {
  "kernelspec": {
   "display_name": "venv",
   "language": "python",
   "name": "python3"
  },
  "language_info": {
   "codemirror_mode": {
    "name": "ipython",
    "version": 3
   },
   "file_extension": ".py",
   "mimetype": "text/x-python",
   "name": "python",
   "nbconvert_exporter": "python",
   "pygments_lexer": "ipython3",
   "version": "3.11.0"
  }
 },
 "nbformat": 4,
 "nbformat_minor": 2
}
