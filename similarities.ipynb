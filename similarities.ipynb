{
 "cells": [
  {
   "cell_type": "markdown",
   "metadata": {},
   "source": [
    "# **Analyzing Task-Report Similarities Using Text Embeddings and Cosine Similarity**\n",
    "\n",
    "## **Description**\n",
    "This notebook processes task descriptions and experimental reports, extracts text embeddings, and computes cosine similarity scores between tasks and reports. The similarity scores are grouped by experimental conditions and visualized using Kernel Density Estimation (KDE) to explore patterns in textual similarity.\n",
    "\n",
    "## **Rationale**\n",
    "The goal of this analysis is to assess the relationship between task descriptions and reports generated during experiments. By embedding textual data and using cosine similarity, we can quantify how closely a report aligns with predefined tasks under different experimental conditions. This approach enables:\n",
    "- Automated comparison of structured and unstructured text data.\n",
    "- Identification of condition-dependent text similarities.\n",
    "- Visualization of similarity distributions for interpretability.\n",
    "\n",
    "The workflow follows a structured approach:\n",
    "1. **Data Loading**: Extracts task descriptions and experimental reports from `.docx` files.\n",
    "2. **Data Processing**: Cleans and organizes text, identifying experimental runs.\n",
    "3. **Embedding Generation**: Converts text into vector embeddings using openai `text-embedding-large` model\n",
    "4. **Similarity Computation**: Measures cosine similarity between task and report embeddings.\n",
    "5. **Analysis & Visualization**: Groups similarities by experimental condition and visualizes distributions.\n"
   ]
  },
  {
   "cell_type": "markdown",
   "metadata": {},
   "source": [
    "### **Imports and Data Models**\n",
    "This cell initializes the notebook by importing essential libraries, defining helper functions, and structuring data models.  \n",
    "- **Imports:** Includes standard libraries (`os`, `re`, `pickle`, `numpy`, `scipy.stats`, `pandas`) along with external dependencies (`pydantic`, `docx`, `plotly.graph_objects`, and a custom `utils` module).  \n",
    "- **Helper Function:** Implements `cosine_similarity()` to compute similarity between two vectors using the cosine similarity metric.  \n",
    "- **Data Models:**  \n",
    "  - `Run`: Represents an experimental run with a run number, report text, and optional embeddings.  \n",
    "  - `Report`: Defines a collection of runs associated with a specific report name and conditions.  \n",
    "  - `Task`: Stores task-related information, including a name, description, and optional embeddings.  \n",
    "- **Paths & Naming:** Defines paths for raw and interim data storage, task names, a mapping of condition labels, and colors for visualization."
   ]
  },
  {
   "cell_type": "code",
   "execution_count": 18,
   "metadata": {},
   "outputs": [],
   "source": [
    "#####\n",
    "# Imports\n",
    "#####\n",
    "from pydantic import BaseModel\n",
    "from typing import List, Optional\n",
    "import os\n",
    "from docx import Document\n",
    "import re\n",
    "import utils\n",
    "import pandas as pd\n",
    "import pickle\n",
    "import numpy as np\n",
    "import scipy.stats as st\n",
    "import plotly.graph_objects as go\n",
    "\n",
    "#####\n",
    "# Helper functions\n",
    "#####\n",
    "def cosine_similarity(vec1, vec2):\n",
    "    \"\"\"Compute the cosine similarity between two vectors.\"\"\"\n",
    "    v1 = np.array(vec1)\n",
    "    v2 = np.array(vec2)\n",
    "    norm1 = np.linalg.norm(v1)\n",
    "    norm2 = np.linalg.norm(v2)\n",
    "    if norm1 == 0 or norm2 == 0:\n",
    "        return 0.0\n",
    "    return np.dot(v1, v2) / (norm1 * norm2)\n",
    "\n",
    "#####\n",
    "# Datamodels\n",
    "#####\n",
    "class Run(BaseModel):\n",
    "    run_number: int\n",
    "    report: str\n",
    "    embeddings: Optional[List[float]] = None\n",
    "\n",
    "class Report(BaseModel):\n",
    "    name: str\n",
    "    run: List[Run]\n",
    "    condition: List[str]\n",
    "\n",
    "class Task(BaseModel):\n",
    "    task_name: str\n",
    "    description: str\n",
    "    embeddings: Optional[List[float]] = None\n",
    "\n",
    "#####\n",
    "# Paths & Naming\n",
    "#####\n",
    "\n",
    "condition_path = \"data/raw/conditions.xlsx\"\n",
    "task_directory = \"data/raw/tasks\"\n",
    "report_directory = \"data/raw/reports\"\n",
    "embedded_reports = \"data/interim/reports.pkl\"\n",
    "embedded_tasks = \"data/interim/tasks.pkl\"\n",
    "task_names = [\"Gehen\",\"Schreibtisch\",\"Tisch\"]\n",
    "conditions_map = {\n",
    "    1: \"complete\",\n",
    "    2: \"incomplete\",\n",
    "    3: \"interrupted\"\n",
    "}\n",
    "colors = [\n",
    "    \"rgba(255, 0, 0, 0.6)\", # red\n",
    "    \"rgba(0, 255, 0, 0.6)\", # green\n",
    "    \"rgba(0, 0, 255, 0.6)\" # blue\n",
    "    ]\n"
   ]
  },
  {
   "cell_type": "markdown",
   "metadata": {},
   "source": [
    "-----"
   ]
  },
  {
   "cell_type": "markdown",
   "metadata": {},
   "source": [
    "### **Load and Filter Condition Data**\n",
    "- Reads an Excel file (`conditions.xlsx`) containing experimental condition data.  \n",
    "- Filters the dataset to include only entries where the `Experimentator` is `\"Maren\"` and the `Metric` is `\"full_text\"`.  \n",
    "- Creates a dictionary (`condition_dict`) mapping participants (`Proband`), tasks, and conditions."
   ]
  },
  {
   "cell_type": "code",
   "execution_count": null,
   "metadata": {},
   "outputs": [],
   "source": [
    "df = pd.read_excel(condition_path, sheet_name='table incl full_text')\n",
    "df_restricted = df[(df['Experimentator'] == 'Maren')& (df['Metric'] == \"full_text\")]\n",
    "condition_dict = df_restricted[['Proband', 'Task', 'Condition']].to_dict(orient='records')"
   ]
  },
  {
   "cell_type": "markdown",
   "metadata": {},
   "source": [
    "----"
   ]
  },
  {
   "cell_type": "markdown",
   "metadata": {},
   "source": [
    "\n",
    "### **Load and Process Task Descriptions**\n",
    "- Lists all `.docx` files in the `task_directory`.  \n",
    "- Iterates through each task document, extracts its text, and stores it in a `Task` object.  \n",
    "- The task descriptions are stored in a list, associating each with a predefined task name.\n"
   ]
  },
  {
   "cell_type": "code",
   "execution_count": null,
   "metadata": {},
   "outputs": [],
   "source": [
    "# List all .docx files in the directory\n",
    "task_files = [f for f in os.listdir(task_directory) if f.endswith('.docx')]\n",
    "tasks = []\n",
    "# Iterate over each file and extract text\n",
    "for idx, file in enumerate(task_files, 0):\n",
    "    file_path = os.path.join(task_directory, file)\n",
    "    doc = Document(file_path)\n",
    "    text = \"\"\n",
    "    for para in doc.paragraphs:\n",
    "        # Create a Task object for each paragraph\n",
    "        text += para.text\n",
    "    task = Task(task_name=f\"{[task_names[idx]]}\", description=text)\n",
    "    tasks.append(task)\n"
   ]
  },
  {
   "cell_type": "markdown",
   "metadata": {},
   "source": [
    "----"
   ]
  },
  {
   "cell_type": "markdown",
   "metadata": {},
   "source": [
    "### **Load and Process Reports**\n",
    "- Scans subdirectories in `report_directory` to find `.docx` report files that start with `\"M\"`.  \n",
    "- Extracts the participant identifier (`Proband`) from the filename.  \n",
    "- Iterates through each document, identifying experimental runs using specific markers (e.g., `\"INT-Pb21-W1\"`).  \n",
    "- Splits the text into runs and maps them to their corresponding participant conditions using `condition_dict`.  \n",
    "- Constructs a `Report` object with the extracted runs and associated conditions, appending it to a list."
   ]
  },
  {
   "cell_type": "code",
   "execution_count": null,
   "metadata": {},
   "outputs": [],
   "source": [
    "# List all subdirectories in the report directory\n",
    "subdirs = [d for d in os.listdir(report_directory) if os.path.isdir(os.path.join(report_directory, d))]\n",
    "# List all .docx files in the subdirectories that start with \"M\"\n",
    "report_files = [\n",
    "    f\"{report_directory}/{subdir}/{f}\" # File path\n",
    "    for subdir in subdirs # Subdirectory\n",
    "    for f in os.listdir(os.path.join(report_directory, subdir)) # File\n",
    "    if f.endswith('.docx') and subdir.startswith(\"M\") # Filter\n",
    "    ]\n",
    "reports = []\n",
    "for file_path in report_files:\n",
    "    doc = Document(file_path)\n",
    "    report_name = re.search(r'\\d+', file_path).group()\n",
    "    runs = []\n",
    "    current_run_text = []\n",
    "    current_run_number = None\n",
    "    for para in doc.paragraphs:\n",
    "        text = para.text.strip()\n",
    "        # Check if the paragraph is a run marker (e.g., \"INT-Pb21-W1\")\n",
    "        if text.startswith(\"INT-\") and \"-W\" in text:\n",
    "            # If there's an active run, save it before starting a new one\n",
    "            if current_run_number is not None:\n",
    "                raw_text = \"\\n\".join(current_run_text).strip()\n",
    "                runs.append(Run(\n",
    "                    run_number=current_run_number,\n",
    "                    report=raw_text, \n",
    "                ))\n",
    "            # Extract the run number from the marker using regex\n",
    "            match = re.search(r'-W(\\d+)', text)\n",
    "            current_run_number = int(match.group(1)) if match else None\n",
    "            current_run_text = []  # Reset the run text accumulator\n",
    "        else:\n",
    "            # Otherwise, accumulate text for the current run\n",
    "            current_run_text.append(text)\n",
    "    \n",
    "    # Add the last run if it exists\n",
    "    if current_run_number is not None and current_run_text:\n",
    "        runs.append(Run(\n",
    "            run_number=current_run_number,\n",
    "            report=\"\\n\".join(current_run_text).strip()\n",
    "        ))\n",
    "    conditions = [entry[\"Condition\"] for entry in condition_dict if entry[\"Proband\"] == int(report_name)]\n",
    "    # Create the Report object using the correct field name 'run'\n",
    "    report = Report(name=report_name, run=runs, condition=[conditions_map[num][0] for num in conditions[:3]])\n",
    "    reports.append(report)\n",
    "\n"
   ]
  },
  {
   "cell_type": "markdown",
   "metadata": {},
   "source": [
    "----"
   ]
  },
  {
   "cell_type": "markdown",
   "metadata": {},
   "source": [
    "### **Generate and Store Text Embeddings**\n",
    "- Extracts task descriptions and asynchronously generates their embeddings using `utils.batch_generate_embeddings()`.  \n",
    "- Iterates through each `Report`, processing its runs to generate embeddings for the run text.  \n",
    "- Saves the processed `reports` and `tasks` as pickled files (`reports.pkl`, `tasks.pkl`) for later use.\n"
   ]
  },
  {
   "cell_type": "code",
   "execution_count": null,
   "metadata": {},
   "outputs": [
    {
     "name": "stderr",
     "output_type": "stream",
     "text": [
      "/var/folders/ph/1fwt_7bd2lqdr0w4cgss08l40000gp/T/ipykernel_25241/2734855478.py:19: PydanticDeprecatedSince20: The `dict` method is deprecated; use `model_dump` instead. Deprecated in Pydantic V2.0 to be removed in V3.0. See Pydantic V2 Migration Guide at https://errors.pydantic.dev/2.10/migration/\n",
      "  pickle.dump([report.dict() for report in reports], f)\n",
      "/var/folders/ph/1fwt_7bd2lqdr0w4cgss08l40000gp/T/ipykernel_25241/2734855478.py:22: PydanticDeprecatedSince20: The `dict` method is deprecated; use `model_dump` instead. Deprecated in Pydantic V2.0 to be removed in V3.0. See Pydantic V2 Migration Guide at https://errors.pydantic.dev/2.10/migration/\n",
      "  pickle.dump([task.dict() for task in tasks], f)\n"
     ]
    }
   ],
   "source": [
    "# Process Task embeddings\n",
    "task_texts = [task.description for task in tasks]\n",
    "# Generate embeddings asynchronously for all tasks at once\n",
    "tasks_embeddings = await utils.batch_generate_embeddings(task_texts)\n",
    "# Update each Task with its corresponding embedding\n",
    "for task, emb in zip(tasks, tasks_embeddings):\n",
    "    task.embeddings = emb\n",
    "\n",
    "# Process Report Run embeddings\n",
    "for report in reports:\n",
    "    run_texts = [run.report for run in report.run]\n",
    "    if run_texts:  # Only process if there are runs in the report\n",
    "        runs_embeddings = await utils.batch_generate_embeddings(run_texts)\n",
    "        for run, emb in zip(report.run, runs_embeddings):\n",
    "            run.embeddings = emb\n",
    "\n",
    "# Cache the embedded reports and tasks\n",
    "with open(embedded_reports, \"wb\") as f:\n",
    "    pickle.dump([report.dict() for report in reports], f)\n",
    "\n",
    "with open(embedded_tasks, \"wb\") as f:\n",
    "    pickle.dump([task.dict() for task in tasks], f)\n"
   ]
  },
  {
   "cell_type": "markdown",
   "metadata": {},
   "source": [
    "----"
   ]
  },
  {
   "cell_type": "markdown",
   "metadata": {},
   "source": [
    "### **Compute Similarity Scores**\n",
    "- Iterates through reports and their corresponding runs.  \n",
    "- Computes cosine similarity scores between each run's embeddings and task embeddings.  \n",
    "- Groups similarity scores by experimental conditions."
   ]
  },
  {
   "cell_type": "code",
   "execution_count": null,
   "metadata": {},
   "outputs": [],
   "source": [
    "# Aggregate similarity scores overall (ignoring tasks) but grouped by condition.\n",
    "similarity_by_condition = {}\n",
    "\n",
    "for report in reports:\n",
    "    for run in report.run:\n",
    "        # Skip runs with empty text or missing embeddings.\n",
    "        if not run.report.strip() or run.embeddings is None:\n",
    "            continue\n",
    "        for idx, task in enumerate(tasks):\n",
    "            if task.embeddings is None:\n",
    "                continue\n",
    "            score = cosine_similarity(run.embeddings, task.embeddings)\n",
    "            similarity_by_condition.setdefault(report.condition[idx], []).append(score)\n",
    "\n"
   ]
  },
  {
   "cell_type": "markdown",
   "metadata": {},
   "source": [
    "----"
   ]
  },
  {
   "cell_type": "markdown",
   "metadata": {},
   "source": [
    "### **Visualize Similarity Distributions**\n",
    "- Initializes a Plotly figure to visualize the cosine similarity distributions by condition.  \n",
    "- Uses Gaussian Kernel Density Estimation (KDE) to estimate similarity score distributions.  \n",
    "- Normalizes density values for consistent visualization.  \n",
    "- Assigns colors to each condition and plots filled curves representing similarity distributions.  \n",
    "- Displays the final interactive figure."
   ]
  },
  {
   "cell_type": "code",
   "execution_count": 19,
   "metadata": {},
   "outputs": [
    {
     "data": {
      "application/vnd.plotly.v1+json": {
       "config": {
        "plotlyServerURL": "https://plot.ly"
       },
       "data": [
        {
         "fill": "tozeroy",
         "fillcolor": "rgba(255, 0, 0, 0.6)",
         "line": {
          "color": "rgba(255, 0, 0, 0.6)",
          "shape": "spline",
          "width": 2
         },
         "mode": "lines",
         "name": "complete",
         "type": "scatter",
         "x": {
          "bdata": "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",
          "dtype": "f8"
         },
         "y": {
          "bdata": "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",
          "dtype": "f8"
         }
        },
        {
         "fill": "tozeroy",
         "fillcolor": "rgba(0, 255, 0, 0.6)",
         "line": {
          "color": "rgba(0, 255, 0, 0.6)",
          "shape": "spline",
          "width": 2
         },
         "mode": "lines",
         "name": "incomplete",
         "type": "scatter",
         "x": {
          "bdata": "AAAAAAAAAABn0LLjOZV0P2fQsuM5lYQ/mjiM1dbfjj9n0LLjOZWUP4GEn1yIupk/mjiM1dbfnj9adjynkgKiP2fQsuM5laQ/dCopIOEnpz+BhJ9ciLqpP47eFZkvTaw/mjiM1dbfrj9USQEJP7mwP1p2PKeSArI/YaN3ReZLsz9n0LLjOZW0P2397YGN3rU/dCopIOEntz96V2S+NHG4P4GEn1yIurk/h7Ha+tsDuz+O3hWZL028P5QLUTeDlr0/mjiM1dbfvj/QsuM5lRTAP1RJAQk/ucA/198e2OhdwT9adjynkgLCP90MWnY8p8I/YaN3ReZLwz/kOZUUkPDDP2fQsuM5lcQ/6mbQsuM5xT9t/e2Bjd7FP/GTC1E3g8Y/dCopIOEnxz/3wEbviszHP3pXZL40ccg//u2Bjd4VyT+BhJ9ciLrJPwQbvSsyX8o/h7Ha+tsDyz8KSPjJhajLP47eFZkvTcw/EXUzaNnxzD+UC1E3g5bNPxeibgYtO84/mjiM1dbfzj8ez6mkgITPP9Cy4zmVFNA/En5yIepm0D9USQEJP7nQP5UUkPCTC9E/198e2Ohd0T8Zq62/PbDRP1p2PKeSAtI/nEHLjudU0j/dDFp2PKfSPx/Y6F2R+dI/YaN3ReZL0z+ibgYtO57TP+Q5lRSQ8NM/JQUk/ORC1D9n0LLjOZXUP6mbQcuO59Q/6mbQsuM51T8sMl+aOIzVP2397YGN3tU/r8h8aeIw1j/xkwtRN4PWPzJfmjiM1dY/dCopIOEn1z+19bcHNnrXP/fARu+KzNc/OYzV1t8e2D96V2S+NHHYP7wi86WJw9g//u2Bjd4V2T8/uRB1M2jZP4GEn1yIutk/wk8uRN0M2j8EG70rMl/aP0bmSxOHsdo/h7Ha+tsD2z/JfGniMFbbPwpI+MmFqNs/TBOHsdr62z+O3hWZL03cP8+ppICEn9w/EXUzaNnx3D9SQMJPLkTdP5QLUTeDlt0/1tbfHtjo3T8Xom4GLTveP1lt/e2Bjd4/mjiM1dbf3j/cAxu9KzLfPx7PqaSAhN8/X5o4jNXW3z/QsuM5lRTgP3EYq62/PeA/En5yIepm4D+z4zmVFJDgP1RJAQk/ueA/9K7IfGni4D+VFJDwkwvhPzZ6V2S+NOE/198e2Ohd4T94ReZLE4fhPxmrrb89sOE/uRB1M2jZ4T9adjynkgLiP/vbAxu9K+I/nEHLjudU4j89p5ICEn7iP90MWnY8p+I/fnIh6mbQ4j8f2OhdkfniP8A9sNG7IuM/YaN3ReZL4z8BCT+5EHXjP6JuBi07nuM/Q9TNoGXH4z/kOZUUkPDjP4WfXIi6GeQ/JQUk/ORC5D/GautvD2zkP2fQsuM5leQ/CDZ6V2S+5D+pm0HLjufkP0kBCT+5EOU/6mbQsuM55T+LzJcmDmPlPywyX5o4jOU/zZcmDmO15T9t/e2Bjd7lPw5jtfW3B+Y/r8h8aeIw5j9QLkTdDFrmP/GTC1E3g+Y/kfnSxGGs5j8yX5o4jNXmP9PEYay2/uY/dCopIOEn5z8VkPCTC1HnP7X1twc2euc/Vlt/e2Cj5z/3wEbvisznP5gmDmO19ec/OYzV1t8e6D/a8ZxKCkjoP3pXZL40ceg/G70rMl+a6D+8IvOlicPoP12Iuhm07Og//u2Bjd4V6T+eU0kBCT/pPz+5EHUzaOk/4B7Y6F2R6T+BhJ9ciLrpPyLqZtCy4+k/wk8uRN0M6j9jtfW3BzbqPwQbvSsyX+o/pYCEn1yI6j9G5ksTh7HqP+ZLE4ex2uo/h7Ha+tsD6z8oF6JuBi3rP8l8aeIwVus/auIwVlt/6z8KSPjJhajrP6utvz2w0es/TBOHsdr66z/teE4lBSTsP47eFZkvTew/LkTdDFp27D/PqaSAhJ/sP3APbPSuyOw/EXUzaNnx7D+y2vrbAxvtP1JAwk8uRO0/86WJw1ht7T+UC1E3g5btPzVxGKutv+0/1tbfHtjo7T92PKeSAhLuPxeibgYtO+4/uAc2eldk7j9Zbf3tgY3uP/rSxGGstu4/mjiM1dbf7j87nlNJAQnvP9wDG70rMu8/fWniMFZb7z8ez6mkgITvP780cRirre8/X5o4jNXW7z8AAAAAAADwPw==",
          "dtype": "f8"
         },
         "y": {
          "bdata": "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",
          "dtype": "f8"
         }
        },
        {
         "fill": "tozeroy",
         "fillcolor": "rgba(0, 0, 255, 0.6)",
         "line": {
          "color": "rgba(0, 0, 255, 0.6)",
          "shape": "spline",
          "width": 2
         },
         "mode": "lines",
         "name": "interrupted",
         "type": "scatter",
         "x": {
          "bdata": "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",
          "dtype": "f8"
         },
         "y": {
          "bdata": "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",
          "dtype": "f8"
         }
        }
       ],
       "layout": {
        "height": 600,
        "margin": {
         "b": 50,
         "l": 50,
         "r": 50,
         "t": 100
        },
        "template": {
         "data": {
          "bar": [
           {
            "error_x": {
             "color": "#2a3f5f"
            },
            "error_y": {
             "color": "#2a3f5f"
            },
            "marker": {
             "line": {
              "color": "white",
              "width": 0.5
             },
             "pattern": {
              "fillmode": "overlay",
              "size": 10,
              "solidity": 0.2
             }
            },
            "type": "bar"
           }
          ],
          "barpolar": [
           {
            "marker": {
             "line": {
              "color": "white",
              "width": 0.5
             },
             "pattern": {
              "fillmode": "overlay",
              "size": 10,
              "solidity": 0.2
             }
            },
            "type": "barpolar"
           }
          ],
          "carpet": [
           {
            "aaxis": {
             "endlinecolor": "#2a3f5f",
             "gridcolor": "#C8D4E3",
             "linecolor": "#C8D4E3",
             "minorgridcolor": "#C8D4E3",
             "startlinecolor": "#2a3f5f"
            },
            "baxis": {
             "endlinecolor": "#2a3f5f",
             "gridcolor": "#C8D4E3",
             "linecolor": "#C8D4E3",
             "minorgridcolor": "#C8D4E3",
             "startlinecolor": "#2a3f5f"
            },
            "type": "carpet"
           }
          ],
          "choropleth": [
           {
            "colorbar": {
             "outlinewidth": 0,
             "ticks": ""
            },
            "type": "choropleth"
           }
          ],
          "contour": [
           {
            "colorbar": {
             "outlinewidth": 0,
             "ticks": ""
            },
            "colorscale": [
             [
              0,
              "#0d0887"
             ],
             [
              0.1111111111111111,
              "#46039f"
             ],
             [
              0.2222222222222222,
              "#7201a8"
             ],
             [
              0.3333333333333333,
              "#9c179e"
             ],
             [
              0.4444444444444444,
              "#bd3786"
             ],
             [
              0.5555555555555556,
              "#d8576b"
             ],
             [
              0.6666666666666666,
              "#ed7953"
             ],
             [
              0.7777777777777778,
              "#fb9f3a"
             ],
             [
              0.8888888888888888,
              "#fdca26"
             ],
             [
              1,
              "#f0f921"
             ]
            ],
            "type": "contour"
           }
          ],
          "contourcarpet": [
           {
            "colorbar": {
             "outlinewidth": 0,
             "ticks": ""
            },
            "type": "contourcarpet"
           }
          ],
          "heatmap": [
           {
            "colorbar": {
             "outlinewidth": 0,
             "ticks": ""
            },
            "colorscale": [
             [
              0,
              "#0d0887"
             ],
             [
              0.1111111111111111,
              "#46039f"
             ],
             [
              0.2222222222222222,
              "#7201a8"
             ],
             [
              0.3333333333333333,
              "#9c179e"
             ],
             [
              0.4444444444444444,
              "#bd3786"
             ],
             [
              0.5555555555555556,
              "#d8576b"
             ],
             [
              0.6666666666666666,
              "#ed7953"
             ],
             [
              0.7777777777777778,
              "#fb9f3a"
             ],
             [
              0.8888888888888888,
              "#fdca26"
             ],
             [
              1,
              "#f0f921"
             ]
            ],
            "type": "heatmap"
           }
          ],
          "histogram": [
           {
            "marker": {
             "pattern": {
              "fillmode": "overlay",
              "size": 10,
              "solidity": 0.2
             }
            },
            "type": "histogram"
           }
          ],
          "histogram2d": [
           {
            "colorbar": {
             "outlinewidth": 0,
             "ticks": ""
            },
            "colorscale": [
             [
              0,
              "#0d0887"
             ],
             [
              0.1111111111111111,
              "#46039f"
             ],
             [
              0.2222222222222222,
              "#7201a8"
             ],
             [
              0.3333333333333333,
              "#9c179e"
             ],
             [
              0.4444444444444444,
              "#bd3786"
             ],
             [
              0.5555555555555556,
              "#d8576b"
             ],
             [
              0.6666666666666666,
              "#ed7953"
             ],
             [
              0.7777777777777778,
              "#fb9f3a"
             ],
             [
              0.8888888888888888,
              "#fdca26"
             ],
             [
              1,
              "#f0f921"
             ]
            ],
            "type": "histogram2d"
           }
          ],
          "histogram2dcontour": [
           {
            "colorbar": {
             "outlinewidth": 0,
             "ticks": ""
            },
            "colorscale": [
             [
              0,
              "#0d0887"
             ],
             [
              0.1111111111111111,
              "#46039f"
             ],
             [
              0.2222222222222222,
              "#7201a8"
             ],
             [
              0.3333333333333333,
              "#9c179e"
             ],
             [
              0.4444444444444444,
              "#bd3786"
             ],
             [
              0.5555555555555556,
              "#d8576b"
             ],
             [
              0.6666666666666666,
              "#ed7953"
             ],
             [
              0.7777777777777778,
              "#fb9f3a"
             ],
             [
              0.8888888888888888,
              "#fdca26"
             ],
             [
              1,
              "#f0f921"
             ]
            ],
            "type": "histogram2dcontour"
           }
          ],
          "mesh3d": [
           {
            "colorbar": {
             "outlinewidth": 0,
             "ticks": ""
            },
            "type": "mesh3d"
           }
          ],
          "parcoords": [
           {
            "line": {
             "colorbar": {
              "outlinewidth": 0,
              "ticks": ""
             }
            },
            "type": "parcoords"
           }
          ],
          "pie": [
           {
            "automargin": true,
            "type": "pie"
           }
          ],
          "scatter": [
           {
            "fillpattern": {
             "fillmode": "overlay",
             "size": 10,
             "solidity": 0.2
            },
            "type": "scatter"
           }
          ],
          "scatter3d": [
           {
            "line": {
             "colorbar": {
              "outlinewidth": 0,
              "ticks": ""
             }
            },
            "marker": {
             "colorbar": {
              "outlinewidth": 0,
              "ticks": ""
             }
            },
            "type": "scatter3d"
           }
          ],
          "scattercarpet": [
           {
            "marker": {
             "colorbar": {
              "outlinewidth": 0,
              "ticks": ""
             }
            },
            "type": "scattercarpet"
           }
          ],
          "scattergeo": [
           {
            "marker": {
             "colorbar": {
              "outlinewidth": 0,
              "ticks": ""
             }
            },
            "type": "scattergeo"
           }
          ],
          "scattergl": [
           {
            "marker": {
             "colorbar": {
              "outlinewidth": 0,
              "ticks": ""
             }
            },
            "type": "scattergl"
           }
          ],
          "scattermap": [
           {
            "marker": {
             "colorbar": {
              "outlinewidth": 0,
              "ticks": ""
             }
            },
            "type": "scattermap"
           }
          ],
          "scattermapbox": [
           {
            "marker": {
             "colorbar": {
              "outlinewidth": 0,
              "ticks": ""
             }
            },
            "type": "scattermapbox"
           }
          ],
          "scatterpolar": [
           {
            "marker": {
             "colorbar": {
              "outlinewidth": 0,
              "ticks": ""
             }
            },
            "type": "scatterpolar"
           }
          ],
          "scatterpolargl": [
           {
            "marker": {
             "colorbar": {
              "outlinewidth": 0,
              "ticks": ""
             }
            },
            "type": "scatterpolargl"
           }
          ],
          "scatterternary": [
           {
            "marker": {
             "colorbar": {
              "outlinewidth": 0,
              "ticks": ""
             }
            },
            "type": "scatterternary"
           }
          ],
          "surface": [
           {
            "colorbar": {
             "outlinewidth": 0,
             "ticks": ""
            },
            "colorscale": [
             [
              0,
              "#0d0887"
             ],
             [
              0.1111111111111111,
              "#46039f"
             ],
             [
              0.2222222222222222,
              "#7201a8"
             ],
             [
              0.3333333333333333,
              "#9c179e"
             ],
             [
              0.4444444444444444,
              "#bd3786"
             ],
             [
              0.5555555555555556,
              "#d8576b"
             ],
             [
              0.6666666666666666,
              "#ed7953"
             ],
             [
              0.7777777777777778,
              "#fb9f3a"
             ],
             [
              0.8888888888888888,
              "#fdca26"
             ],
             [
              1,
              "#f0f921"
             ]
            ],
            "type": "surface"
           }
          ],
          "table": [
           {
            "cells": {
             "fill": {
              "color": "#EBF0F8"
             },
             "line": {
              "color": "white"
             }
            },
            "header": {
             "fill": {
              "color": "#C8D4E3"
             },
             "line": {
              "color": "white"
             }
            },
            "type": "table"
           }
          ]
         },
         "layout": {
          "annotationdefaults": {
           "arrowcolor": "#2a3f5f",
           "arrowhead": 0,
           "arrowwidth": 1
          },
          "autotypenumbers": "strict",
          "coloraxis": {
           "colorbar": {
            "outlinewidth": 0,
            "ticks": ""
           }
          },
          "colorscale": {
           "diverging": [
            [
             0,
             "#8e0152"
            ],
            [
             0.1,
             "#c51b7d"
            ],
            [
             0.2,
             "#de77ae"
            ],
            [
             0.3,
             "#f1b6da"
            ],
            [
             0.4,
             "#fde0ef"
            ],
            [
             0.5,
             "#f7f7f7"
            ],
            [
             0.6,
             "#e6f5d0"
            ],
            [
             0.7,
             "#b8e186"
            ],
            [
             0.8,
             "#7fbc41"
            ],
            [
             0.9,
             "#4d9221"
            ],
            [
             1,
             "#276419"
            ]
           ],
           "sequential": [
            [
             0,
             "#0d0887"
            ],
            [
             0.1111111111111111,
             "#46039f"
            ],
            [
             0.2222222222222222,
             "#7201a8"
            ],
            [
             0.3333333333333333,
             "#9c179e"
            ],
            [
             0.4444444444444444,
             "#bd3786"
            ],
            [
             0.5555555555555556,
             "#d8576b"
            ],
            [
             0.6666666666666666,
             "#ed7953"
            ],
            [
             0.7777777777777778,
             "#fb9f3a"
            ],
            [
             0.8888888888888888,
             "#fdca26"
            ],
            [
             1,
             "#f0f921"
            ]
           ],
           "sequentialminus": [
            [
             0,
             "#0d0887"
            ],
            [
             0.1111111111111111,
             "#46039f"
            ],
            [
             0.2222222222222222,
             "#7201a8"
            ],
            [
             0.3333333333333333,
             "#9c179e"
            ],
            [
             0.4444444444444444,
             "#bd3786"
            ],
            [
             0.5555555555555556,
             "#d8576b"
            ],
            [
             0.6666666666666666,
             "#ed7953"
            ],
            [
             0.7777777777777778,
             "#fb9f3a"
            ],
            [
             0.8888888888888888,
             "#fdca26"
            ],
            [
             1,
             "#f0f921"
            ]
           ]
          },
          "colorway": [
           "#636efa",
           "#EF553B",
           "#00cc96",
           "#ab63fa",
           "#FFA15A",
           "#19d3f3",
           "#FF6692",
           "#B6E880",
           "#FF97FF",
           "#FECB52"
          ],
          "font": {
           "color": "#2a3f5f"
          },
          "geo": {
           "bgcolor": "white",
           "lakecolor": "white",
           "landcolor": "white",
           "showlakes": true,
           "showland": true,
           "subunitcolor": "#C8D4E3"
          },
          "hoverlabel": {
           "align": "left"
          },
          "hovermode": "closest",
          "mapbox": {
           "style": "light"
          },
          "paper_bgcolor": "white",
          "plot_bgcolor": "white",
          "polar": {
           "angularaxis": {
            "gridcolor": "#EBF0F8",
            "linecolor": "#EBF0F8",
            "ticks": ""
           },
           "bgcolor": "white",
           "radialaxis": {
            "gridcolor": "#EBF0F8",
            "linecolor": "#EBF0F8",
            "ticks": ""
           }
          },
          "scene": {
           "xaxis": {
            "backgroundcolor": "white",
            "gridcolor": "#DFE8F3",
            "gridwidth": 2,
            "linecolor": "#EBF0F8",
            "showbackground": true,
            "ticks": "",
            "zerolinecolor": "#EBF0F8"
           },
           "yaxis": {
            "backgroundcolor": "white",
            "gridcolor": "#DFE8F3",
            "gridwidth": 2,
            "linecolor": "#EBF0F8",
            "showbackground": true,
            "ticks": "",
            "zerolinecolor": "#EBF0F8"
           },
           "zaxis": {
            "backgroundcolor": "white",
            "gridcolor": "#DFE8F3",
            "gridwidth": 2,
            "linecolor": "#EBF0F8",
            "showbackground": true,
            "ticks": "",
            "zerolinecolor": "#EBF0F8"
           }
          },
          "shapedefaults": {
           "line": {
            "color": "#2a3f5f"
           }
          },
          "ternary": {
           "aaxis": {
            "gridcolor": "#DFE8F3",
            "linecolor": "#A2B1C6",
            "ticks": ""
           },
           "baxis": {
            "gridcolor": "#DFE8F3",
            "linecolor": "#A2B1C6",
            "ticks": ""
           },
           "bgcolor": "white",
           "caxis": {
            "gridcolor": "#DFE8F3",
            "linecolor": "#A2B1C6",
            "ticks": ""
           }
          },
          "title": {
           "x": 0.05
          },
          "xaxis": {
           "automargin": true,
           "gridcolor": "#EBF0F8",
           "linecolor": "#EBF0F8",
           "ticks": "",
           "title": {
            "standoff": 15
           },
           "zerolinecolor": "#EBF0F8",
           "zerolinewidth": 2
          },
          "yaxis": {
           "automargin": true,
           "gridcolor": "#EBF0F8",
           "linecolor": "#EBF0F8",
           "ticks": "",
           "title": {
            "standoff": 15
           },
           "zerolinecolor": "#EBF0F8",
           "zerolinewidth": 2
          }
         }
        },
        "title": {
         "text": "Cosine Similarity Distributions by Condition"
        },
        "width": 800,
        "xaxis": {
         "range": [
          0,
          1
         ],
         "title": {
          "text": "Cosine Similarity"
         }
        },
        "yaxis": {
         "title": {
          "text": "Normalized Density"
         }
        }
       }
      }
     },
     "metadata": {},
     "output_type": "display_data"
    }
   ],
   "source": [
    "fig = go.Figure()\n",
    "# Define colors for conditions.\n",
    "color_map = {cond:colors[i] for i, cond in enumerate(conditions_map.values())}\n",
    "# For each condition, compute the KDE and add a filled trace.\n",
    "for cond, sim_list in similarity_by_condition.items():\n",
    "    data = sim_list\n",
    "    if not data:\n",
    "        continue\n",
    "    kde = st.gaussian_kde(data)\n",
    "    x_vals = np.linspace(0, 1, 200)\n",
    "    y_vals = kde(x_vals)\n",
    "    # Normalize the density values (scaled to a max height of 0.8 for visual consistency)\n",
    "    y_vals_norm = (y_vals - np.min(y_vals)) / (np.max(y_vals) - np.min(y_vals)) * 0.8\n",
    "    \n",
    "    fig.add_trace(go.Scatter(\n",
    "        x=x_vals,\n",
    "        y=y_vals_norm,\n",
    "        mode=\"lines\",\n",
    "        line_shape=\"spline\",\n",
    "        fill=\"tozeroy\",\n",
    "        line=dict(color=color_map.get(cond), width=2),\n",
    "        fillcolor=color_map.get(cond),\n",
    "        name=cond\n",
    "    ))\n",
    "\n",
    "# Update layout.\n",
    "fig.update_layout(\n",
    "    title=\"Cosine Similarity Distributions by Condition\",\n",
    "    xaxis_title=\"Cosine Similarity\",\n",
    "    yaxis_title=\"Normalized Density\",\n",
    "    template=\"plotly_white\",\n",
    "    width=800,\n",
    "    height=600,\n",
    "    margin=dict(l=50, r=50, t=100, b=50)\n",
    ")\n",
    "fig.update_xaxes(range=[0, 1])\n",
    "fig.show()\n"
   ]
  },
  {
   "cell_type": "code",
   "execution_count": null,
   "metadata": {},
   "outputs": [],
   "source": []
  }
 ],
 "metadata": {
  "kernelspec": {
   "display_name": "venv",
   "language": "python",
   "name": "python3"
  },
  "language_info": {
   "codemirror_mode": {
    "name": "ipython",
    "version": 3
   },
   "file_extension": ".py",
   "mimetype": "text/x-python",
   "name": "python",
   "nbconvert_exporter": "python",
   "pygments_lexer": "ipython3",
   "version": "3.12.7"
  }
 },
 "nbformat": 4,
 "nbformat_minor": 2
}
