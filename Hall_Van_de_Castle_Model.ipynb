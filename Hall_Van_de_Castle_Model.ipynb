{
 "cells": [
  {
   "cell_type": "code",
   "execution_count": 1,
   "metadata": {},
   "outputs": [],
   "source": [
    "from pydantic import BaseModel, Field\n",
    "from typing import List, Optional\n",
    "import utils\n",
    "from importlib import reload\n",
    "\n",
    "\n",
    "class Run(BaseModel):\n",
    "    run_number: int\n",
    "    report: str\n",
    "    embeddings: Optional[List[float]] = None\n",
    "\n",
    "class Report(BaseModel):\n",
    "    name: str\n",
    "    run: List[Run]\n",
    "    condition: List[str]\n",
    "\n",
    "# Sub-model for an individual character in the dream.\n",
    "class Character(BaseModel):\n",
    "    number: int = Field(..., description=\"An identifier or order number for the character in the dream.\")\n",
    "    gender: Optional[str] = Field(..., description=\"The gender of the character (e.g., 'male', 'female', etc.).\")\n",
    "    identity: Optional[str] = Field(..., description=\"The role or relationship of the character (e.g., 'self', 'mother', 'stranger').\")\n",
    "    age: Optional[int] = Field(..., description=\"The age of the character if known.\")\n",
    "\n",
    "# Model for grouping all characters.\n",
    "class Characters(BaseModel):\n",
    "    characters: List[Character] = Field(..., description=\"A list of all characters present in the dream.\")\n",
    "\n",
    "# Model for coding social interactions.\n",
    "class SocialInteractions(BaseModel):\n",
    "    aggression: Optional[float] = Field(..., description=\"A score indicating the level or frequency of aggressive interactions.\")\n",
    "    friendliness: Optional[float] = Field(..., description=\"A score indicating the level or frequency of friendly interactions.\")\n",
    "    sexuality: Optional[float] = Field(..., description=\"A score indicating the presence or intensity of sexual interactions.\")\n",
    "\n",
    "# Model for coding different types of activities.\n",
    "class Activities(BaseModel):\n",
    "    physical: Optional[float] = Field(..., description=\"A measure of the physical activity in the dream.\")\n",
    "    movement: Optional[float] = Field(..., description=\"A measure of the intensity or frequency of movement.\")\n",
    "    location_change: Optional[float] = Field(..., description=\"A measure of how often the dream location changes.\")\n",
    "    verbal: Optional[float] = Field(..., description=\"A measure of verbal communication in the dream.\")\n",
    "    expressive_communication: Optional[float] = Field(..., description=\"A measure of non-verbal expressive communication.\")\n",
    "    visual: Optional[float] = Field(..., description=\"A measure of the vividness or intensity of visual imagery.\")\n",
    "    auditory: Optional[float] = Field(..., description=\"A measure of the clarity or intensity of auditory elements.\")\n",
    "    thinking: Optional[float] = Field(..., description=\"A measure of cognitive activity or internal dialogue.\")\n",
    "\n",
    "# Model for coding emotions present in the dream.\n",
    "class Emotions(BaseModel):\n",
    "    anger: Optional[float] = Field(..., description=\"A score representing the intensity or frequency of anger in the dream.\")\n",
    "    apprehension: Optional[float] = Field(..., description=\"A score representing the level of apprehension experienced.\")\n",
    "    sadness: Optional[float] = Field(..., description=\"A score representing the degree of sadness.\")\n",
    "    confusion: Optional[float] = Field(..., description=\"A score representing the level of confusion in the dream.\")\n",
    "    happiness: Optional[float] = Field(..., description=\"A score representing the intensity or presence of happiness.\")\n",
    "\n",
    "# Model for coding the setting of the dream.\n",
    "class Settings(BaseModel):\n",
    "    location: Optional[str] = Field(..., description=\"A textual description of the dream's setting or location.\")\n",
    "    indoor: Optional[bool] = Field(..., description=\"Indicates if the dream setting is indoors.\")\n",
    "    outdoor: Optional[bool] = Field(..., description=\"Indicates if the dream setting is outdoors.\")\n",
    "    ambiguous: Optional[bool] = Field(..., description=\"Indicates if the setting is ambiguous or unclear.\")\n",
    "    no_setting: Optional[bool] = Field(..., description=\"Indicates if no clear setting is present in the dream.\")\n",
    "    familiarity: Optional[str] = Field(\n",
    "        ..., \n",
    "        description=\"A descriptor indicating the familiarity of the setting (e.g., 'familiar', 'distorted', 'geographical', 'unfamiliar', or 'questionable').\"\n",
    "    )\n",
    "    familiar: Optional[bool] = Field(..., description=\"Indicates if the setting is recognized as familiar.\")\n",
    "    distorted: Optional[bool] = Field(..., description=\"Indicates if the setting appears distorted.\")\n",
    "    geographical: Optional[bool] = Field(..., description=\"Indicates if the setting is geographically coherent.\")\n",
    "    unfamiliar: Optional[bool] = Field(..., description=\"Indicates if the setting is unfamiliar.\")\n",
    "    questionable: Optional[bool] = Field(..., description=\"Indicates if the nature of the setting is questionable.\")\n",
    "\n",
    "# The overarching model for a dream report.\n",
    "class DreamReport(BaseModel):\n",
    "    description: str = Field(..., description=\"The raw textual description of the dream.\")\n",
    "    characters: Characters = Field(..., description=\"The coded list of characters in the dream.\")\n",
    "    social_interactions: SocialInteractions = Field(..., description=\"The coded social interactions present in the dream.\")\n",
    "    activities: Activities = Field(..., description=\"The coded activities and actions performed in the dream.\")\n",
    "    emotions: Emotions = Field(..., description=\"The coded emotional content of the dream.\")\n",
    "    settings: Settings = Field(..., description=\"The coded details of the dream's setting.\")"
   ]
  },
  {
   "cell_type": "code",
   "execution_count": 2,
   "metadata": {},
   "outputs": [],
   "source": [
    "import pickle\n",
    "embedded_reports = \"data/interim/reports.pkl\"\n",
    "with open(embedded_reports, \"rb\") as f:\n",
    "    report_data = pickle.load(f)\n",
    "reports = [Report(**data) for data in report_data]\n",
    "example_reports = [reports[0].run[2].report, reports[3].run[2].report]"
   ]
  },
  {
   "cell_type": "code",
   "execution_count": 10,
   "metadata": {},
   "outputs": [
    {
     "name": "stdout",
     "output_type": "stream",
     "text": [
      "ChatCompletion(id='chatcmpl-BBpPmO5RQFDstToFRmooH6XAbPZ58', choices=[Choice(finish_reason='stop', index=0, logprobs=None, message=ChatCompletionMessage(content='```json\\n{\\n  \"Description\": \"The dream involves interactions with employees and staff members.\",\\n  \"Characters\": [\\n    {\\n      \"number\": 1,\\n      \"gender\": null,\\n      \"identity\": \"employee\",\\n      \"age\": null\\n    },\\n    {\\n      \"number\": 2,\\n      \"gender\": null,\\n      \"identity\": \"staff member\",\\n      \"age\": null\\n    }\\n  ],\\n  \"Social Interactions\": {\\n    \"aggression\": \"low\",\\n    \"friendliness\": \"moderate\",\\n    \"sexuality\": \"none\"\\n  },\\n  \"Activities\": {\\n    \"physical\": \"low\",\\n    \"movement\": \"low\",\\n    \"location_change\": \"none\",\\n    \"verbal\": \"moderate\",\\n    \"expressive_communication\": \"low\",\\n    \"visual\": \"low\",\\n    \"auditory\": \"low\",\\n    \"thinking\": \"moderate\"\\n  },\\n  \"Emotions\": {\\n    \"anger\": \"none\",\\n    \"apprehension\": \"low\",\\n    \"sadness\": \"none\",\\n    \"confusion\": \"low\",\\n    \"happiness\": \"moderate\"\\n  },\\n  \"Settings\": {\\n    \"location\": \"workplace\",\\n    \"indoor\": true,\\n    \"outdoor\": false,\\n    \"ambiguous\": false,\\n    \"no_setting\": false,\\n    \"familiarity\": \"familiar\",\\n    \"familiar\": true,\\n    \"distorted\": false,\\n    \"geographical\": false,\\n    \"unfamiliar\": false,\\n    \"questionable\": false\\n  }\\n}\\n```', refusal=None, role='assistant', audio=None, function_call=None, tool_calls=None, annotations=[]))], created=1742158946, model='gpt-4o-mini-2024-07-18', object='chat.completion', service_tier='default', system_fingerprint='fp_06737a9306', usage=CompletionUsage(completion_tokens=333, prompt_tokens=486, total_tokens=819, completion_tokens_details=CompletionTokensDetails(accepted_prediction_tokens=0, audio_tokens=0, reasoning_tokens=0, rejected_prediction_tokens=0), prompt_tokens_details=PromptTokensDetails(audio_tokens=0, cached_tokens=0)))\n",
      "ChatCompletion(id='chatcmpl-BBpPmcfmKrGdknieLigQTE2eXDgJu', choices=[Choice(finish_reason='stop', index=0, logprobs=None, message=ChatCompletionMessage(content='```json\\n{\\n  \"Description\": \"The dream involves a traffic test reminiscent of the TV series \\'Hubert und Staller\\'.\",\\n  \"Characters\": [\\n    {\\n      \"number\": 1,\\n      \"gender\": null,\\n      \"identity\": \"self\",\\n      \"age\": null\\n    },\\n    {\\n      \"number\": 2,\\n      \"gender\": null,\\n      \"identity\": \"characters from \\'Hubert und Staller\\'\",\\n      \"age\": null\\n    }\\n  ],\\n  \"Social Interactions\": {\\n    \"aggression\": 0,\\n    \"friendliness\": 0,\\n    \"sexuality\": 0\\n  },\\n  \"Activities\": {\\n    \"physical\": 0,\\n    \"movement\": 0,\\n    \"location_change\": 0,\\n    \"verbal\": 0,\\n    \"expressive_communication\": 0,\\n    \"visual\": 2,\\n    \"auditory\": 0,\\n    \"thinking\": 3\\n  },\\n  \"Emotions\": {\\n    \"anger\": 0,\\n    \"apprehension\": 1,\\n    \"sadness\": 0,\\n    \"confusion\": 2,\\n    \"happiness\": 0\\n  },\\n  \"Settings\": {\\n    \"location\": \"Traffic test environment, possibly resembling a classroom or testing area.\",\\n    \"indoor\": true,\\n    \"outdoor\": false,\\n    \"ambiguous\": false,\\n    \"no_setting\": false,\\n    \"familiarity\": \"questionable\",\\n    \"familiar\": false,\\n    \"distorted\": false,\\n    \"geographical\": false,\\n    \"unfamiliar\": true,\\n    \"questionable\": true\\n  }\\n}\\n```', refusal=None, role='assistant', audio=None, function_call=None, tool_calls=None, annotations=[]))], created=1742158946, model='gpt-4o-mini-2024-07-18', object='chat.completion', service_tier='default', system_fingerprint='fp_06737a9306', usage=CompletionUsage(completion_tokens=353, prompt_tokens=510, total_tokens=863, completion_tokens_details=CompletionTokensDetails(accepted_prediction_tokens=0, audio_tokens=0, reasoning_tokens=0, rejected_prediction_tokens=0), prompt_tokens_details=PromptTokensDetails(audio_tokens=0, cached_tokens=0)))\n"
     ]
    }
   ],
   "source": [
    "\n",
    "reload(utils)\n",
    "example_dreams = await utils.batch_generate_completions(texts=example_reports, agent=\"interpreter\", response_model=DreamReport, model=\"gpt-40\")"
   ]
  },
  {
   "cell_type": "code",
   "execution_count": 11,
   "metadata": {},
   "outputs": [
    {
     "data": {
      "text/plain": [
       "[DreamReport(description='The dream involves interactions with employees and staff.', characters=Characters(characters=[Character(number=1, gender=None, identity='employee', age=None), Character(number=2, gender=None, identity='staff', age=None)]), social_interactions=SocialInteractions(aggression=None, friendliness=None, sexuality=None), activities=Activities(physical=None, movement=None, location_change=None, verbal=None, expressive_communication=None, visual=None, auditory=None, thinking=None), emotions=Emotions(anger=None, apprehension=None, sadness=None, confusion=None, happiness=None), settings=Settings(location=None, indoor=None, outdoor=None, ambiguous=None, no_setting=None, familiarity=None, familiar=None, distorted=None, geographical=None, unfamiliar=None, questionable=None)),\n",
       " DreamReport(description=\"The dream involves a scenario related to the TV series 'Hubert und Staller', where the dreamer participates in a traffic test that includes a multiple-choice questionnaire.\", characters=Characters(characters=[Character(number=1, gender=None, identity='self', age=None)]), social_interactions=SocialInteractions(aggression=None, friendliness=None, sexuality=None), activities=Activities(physical=None, movement=None, location_change=None, verbal=None, expressive_communication=None, visual=None, auditory=None, thinking=None), emotions=Emotions(anger=None, apprehension=None, sadness=None, confusion=None, happiness=None), settings=Settings(location='Traffic test scenario related to a TV series', indoor=None, outdoor=None, ambiguous=None, no_setting=None, familiarity='questionable', familiar=None, distorted=None, geographical=None, unfamiliar=None, questionable=True))]"
      ]
     },
     "execution_count": 11,
     "metadata": {},
     "output_type": "execute_result"
    }
   ],
   "source": [
    "example_dreams"
   ]
  },
  {
   "cell_type": "code",
   "execution_count": null,
   "metadata": {},
   "outputs": [],
   "source": []
  }
 ],
 "metadata": {
  "kernelspec": {
   "display_name": "venv",
   "language": "python",
   "name": "python3"
  },
  "language_info": {
   "codemirror_mode": {
    "name": "ipython",
    "version": 3
   },
   "file_extension": ".py",
   "mimetype": "text/x-python",
   "name": "python",
   "nbconvert_exporter": "python",
   "pygments_lexer": "ipython3",
   "version": "3.12.7"
  }
 },
 "nbformat": 4,
 "nbformat_minor": 2
}
